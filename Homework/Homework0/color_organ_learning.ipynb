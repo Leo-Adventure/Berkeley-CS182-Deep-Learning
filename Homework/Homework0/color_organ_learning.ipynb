{
  "cells": [
    {
      "cell_type": "code",
      "execution_count": 44,
      "id": "Jevqt6z9JwB6",
      "metadata": {
        "colab": {
          "base_uri": "https://localhost:8080/"
        },
        "id": "Jevqt6z9JwB6",
        "outputId": "fc24e721-11cc-457e-fe73-f2bf76357891"
      },
      "outputs": [
        {
          "output_type": "stream",
          "name": "stdout",
          "text": [
            "Looking in indexes: https://pypi.org/simple, https://us-python.pkg.dev/colab-wheels/public/simple/\n",
            "Requirement already satisfied: ipympl in /usr/local/lib/python3.8/dist-packages (0.9.2)\n",
            "Requirement already satisfied: torchviz in /usr/local/lib/python3.8/dist-packages (0.0.2)\n",
            "Requirement already satisfied: pillow in /usr/local/lib/python3.8/dist-packages (from ipympl) (7.1.2)\n",
            "Requirement already satisfied: ipython<9 in /usr/local/lib/python3.8/dist-packages (from ipympl) (7.9.0)\n",
            "Requirement already satisfied: ipython-genutils in /usr/local/lib/python3.8/dist-packages (from ipympl) (0.2.0)\n",
            "Requirement already satisfied: matplotlib<4,>=3.4.0 in /usr/local/lib/python3.8/dist-packages (from ipympl) (3.6.3)\n",
            "Requirement already satisfied: traitlets<6 in /usr/local/lib/python3.8/dist-packages (from ipympl) (5.7.1)\n",
            "Requirement already satisfied: ipywidgets<9,>=7.6.0 in /usr/local/lib/python3.8/dist-packages (from ipympl) (7.7.1)\n",
            "Requirement already satisfied: numpy in /usr/local/lib/python3.8/dist-packages (from ipympl) (1.21.6)\n",
            "Requirement already satisfied: torch in /usr/local/lib/python3.8/dist-packages (from torchviz) (1.13.0+cpu)\n",
            "Requirement already satisfied: graphviz in /usr/local/lib/python3.8/dist-packages (from torchviz) (0.10.1)\n",
            "Requirement already satisfied: jedi>=0.10 in /usr/local/lib/python3.8/dist-packages (from ipython<9->ipympl) (0.18.2)\n",
            "Requirement already satisfied: decorator in /usr/local/lib/python3.8/dist-packages (from ipython<9->ipympl) (4.4.2)\n",
            "Requirement already satisfied: prompt-toolkit<2.1.0,>=2.0.0 in /usr/local/lib/python3.8/dist-packages (from ipython<9->ipympl) (2.0.10)\n",
            "Requirement already satisfied: setuptools>=18.5 in /usr/local/lib/python3.8/dist-packages (from ipython<9->ipympl) (57.4.0)\n",
            "Requirement already satisfied: pygments in /usr/local/lib/python3.8/dist-packages (from ipython<9->ipympl) (2.6.1)\n",
            "Requirement already satisfied: pickleshare in /usr/local/lib/python3.8/dist-packages (from ipython<9->ipympl) (0.7.5)\n",
            "Requirement already satisfied: backcall in /usr/local/lib/python3.8/dist-packages (from ipython<9->ipympl) (0.2.0)\n",
            "Requirement already satisfied: pexpect in /usr/local/lib/python3.8/dist-packages (from ipython<9->ipympl) (4.8.0)\n",
            "Requirement already satisfied: ipykernel>=4.5.1 in /usr/local/lib/python3.8/dist-packages (from ipywidgets<9,>=7.6.0->ipympl) (5.3.4)\n",
            "Requirement already satisfied: jupyterlab-widgets>=1.0.0 in /usr/local/lib/python3.8/dist-packages (from ipywidgets<9,>=7.6.0->ipympl) (3.0.5)\n",
            "Requirement already satisfied: widgetsnbextension~=3.6.0 in /usr/local/lib/python3.8/dist-packages (from ipywidgets<9,>=7.6.0->ipympl) (3.6.1)\n",
            "Requirement already satisfied: contourpy>=1.0.1 in /usr/local/lib/python3.8/dist-packages (from matplotlib<4,>=3.4.0->ipympl) (1.0.7)\n",
            "Requirement already satisfied: fonttools>=4.22.0 in /usr/local/lib/python3.8/dist-packages (from matplotlib<4,>=3.4.0->ipympl) (4.38.0)\n",
            "Requirement already satisfied: packaging>=20.0 in /usr/local/lib/python3.8/dist-packages (from matplotlib<4,>=3.4.0->ipympl) (21.3)\n",
            "Requirement already satisfied: pyparsing>=2.2.1 in /usr/local/lib/python3.8/dist-packages (from matplotlib<4,>=3.4.0->ipympl) (3.0.9)\n",
            "Requirement already satisfied: python-dateutil>=2.7 in /usr/local/lib/python3.8/dist-packages (from matplotlib<4,>=3.4.0->ipympl) (2.8.2)\n",
            "Requirement already satisfied: kiwisolver>=1.0.1 in /usr/local/lib/python3.8/dist-packages (from matplotlib<4,>=3.4.0->ipympl) (1.4.4)\n",
            "Requirement already satisfied: cycler>=0.10 in /usr/local/lib/python3.8/dist-packages (from matplotlib<4,>=3.4.0->ipympl) (0.11.0)\n",
            "Requirement already satisfied: typing-extensions in /usr/local/lib/python3.8/dist-packages (from torch->torchviz) (4.4.0)\n",
            "Requirement already satisfied: jupyter-client in /usr/local/lib/python3.8/dist-packages (from ipykernel>=4.5.1->ipywidgets<9,>=7.6.0->ipympl) (6.1.12)\n",
            "Requirement already satisfied: tornado>=4.2 in /usr/local/lib/python3.8/dist-packages (from ipykernel>=4.5.1->ipywidgets<9,>=7.6.0->ipympl) (6.0.4)\n",
            "Requirement already satisfied: parso<0.9.0,>=0.8.0 in /usr/local/lib/python3.8/dist-packages (from jedi>=0.10->ipython<9->ipympl) (0.8.3)\n",
            "Requirement already satisfied: six>=1.9.0 in /usr/local/lib/python3.8/dist-packages (from prompt-toolkit<2.1.0,>=2.0.0->ipython<9->ipympl) (1.15.0)\n",
            "Requirement already satisfied: wcwidth in /usr/local/lib/python3.8/dist-packages (from prompt-toolkit<2.1.0,>=2.0.0->ipython<9->ipympl) (0.2.5)\n",
            "Requirement already satisfied: notebook>=4.4.1 in /usr/local/lib/python3.8/dist-packages (from widgetsnbextension~=3.6.0->ipywidgets<9,>=7.6.0->ipympl) (5.7.16)\n",
            "Requirement already satisfied: ptyprocess>=0.5 in /usr/local/lib/python3.8/dist-packages (from pexpect->ipython<9->ipympl) (0.7.0)\n",
            "Requirement already satisfied: pyzmq>=17 in /usr/local/lib/python3.8/dist-packages (from notebook>=4.4.1->widgetsnbextension~=3.6.0->ipywidgets<9,>=7.6.0->ipympl) (23.2.1)\n",
            "Requirement already satisfied: nbconvert<6.0 in /usr/local/lib/python3.8/dist-packages (from notebook>=4.4.1->widgetsnbextension~=3.6.0->ipywidgets<9,>=7.6.0->ipympl) (5.6.1)\n",
            "Requirement already satisfied: jinja2<=3.0.0 in /usr/local/lib/python3.8/dist-packages (from notebook>=4.4.1->widgetsnbextension~=3.6.0->ipywidgets<9,>=7.6.0->ipympl) (2.11.3)\n",
            "Requirement already satisfied: jupyter-core>=4.4.0 in /usr/local/lib/python3.8/dist-packages (from notebook>=4.4.1->widgetsnbextension~=3.6.0->ipywidgets<9,>=7.6.0->ipympl) (5.1.3)\n",
            "Requirement already satisfied: prometheus-client in /usr/local/lib/python3.8/dist-packages (from notebook>=4.4.1->widgetsnbextension~=3.6.0->ipywidgets<9,>=7.6.0->ipympl) (0.15.0)\n",
            "Requirement already satisfied: terminado>=0.8.1 in /usr/local/lib/python3.8/dist-packages (from notebook>=4.4.1->widgetsnbextension~=3.6.0->ipywidgets<9,>=7.6.0->ipympl) (0.13.3)\n",
            "Requirement already satisfied: nbformat in /usr/local/lib/python3.8/dist-packages (from notebook>=4.4.1->widgetsnbextension~=3.6.0->ipywidgets<9,>=7.6.0->ipympl) (5.7.1)\n",
            "Requirement already satisfied: Send2Trash in /usr/local/lib/python3.8/dist-packages (from notebook>=4.4.1->widgetsnbextension~=3.6.0->ipywidgets<9,>=7.6.0->ipympl) (1.8.0)\n",
            "Requirement already satisfied: MarkupSafe>=0.23 in /usr/local/lib/python3.8/dist-packages (from jinja2<=3.0.0->notebook>=4.4.1->widgetsnbextension~=3.6.0->ipywidgets<9,>=7.6.0->ipympl) (2.0.1)\n",
            "Requirement already satisfied: platformdirs>=2.5 in /usr/local/lib/python3.8/dist-packages (from jupyter-core>=4.4.0->notebook>=4.4.1->widgetsnbextension~=3.6.0->ipywidgets<9,>=7.6.0->ipympl) (2.6.2)\n",
            "Requirement already satisfied: pandocfilters>=1.4.1 in /usr/local/lib/python3.8/dist-packages (from nbconvert<6.0->notebook>=4.4.1->widgetsnbextension~=3.6.0->ipywidgets<9,>=7.6.0->ipympl) (1.5.0)\n",
            "Requirement already satisfied: defusedxml in /usr/local/lib/python3.8/dist-packages (from nbconvert<6.0->notebook>=4.4.1->widgetsnbextension~=3.6.0->ipywidgets<9,>=7.6.0->ipympl) (0.7.1)\n",
            "Requirement already satisfied: mistune<2,>=0.8.1 in /usr/local/lib/python3.8/dist-packages (from nbconvert<6.0->notebook>=4.4.1->widgetsnbextension~=3.6.0->ipywidgets<9,>=7.6.0->ipympl) (0.8.4)\n",
            "Requirement already satisfied: bleach in /usr/local/lib/python3.8/dist-packages (from nbconvert<6.0->notebook>=4.4.1->widgetsnbextension~=3.6.0->ipywidgets<9,>=7.6.0->ipympl) (5.0.1)\n",
            "Requirement already satisfied: testpath in /usr/local/lib/python3.8/dist-packages (from nbconvert<6.0->notebook>=4.4.1->widgetsnbextension~=3.6.0->ipywidgets<9,>=7.6.0->ipympl) (0.6.0)\n",
            "Requirement already satisfied: entrypoints>=0.2.2 in /usr/local/lib/python3.8/dist-packages (from nbconvert<6.0->notebook>=4.4.1->widgetsnbextension~=3.6.0->ipywidgets<9,>=7.6.0->ipympl) (0.4)\n",
            "Requirement already satisfied: jsonschema>=2.6 in /usr/local/lib/python3.8/dist-packages (from nbformat->notebook>=4.4.1->widgetsnbextension~=3.6.0->ipywidgets<9,>=7.6.0->ipympl) (4.3.3)\n",
            "Requirement already satisfied: fastjsonschema in /usr/local/lib/python3.8/dist-packages (from nbformat->notebook>=4.4.1->widgetsnbextension~=3.6.0->ipywidgets<9,>=7.6.0->ipympl) (2.16.2)\n",
            "Requirement already satisfied: attrs>=17.4.0 in /usr/local/lib/python3.8/dist-packages (from jsonschema>=2.6->nbformat->notebook>=4.4.1->widgetsnbextension~=3.6.0->ipywidgets<9,>=7.6.0->ipympl) (22.2.0)\n",
            "Requirement already satisfied: pyrsistent!=0.17.0,!=0.17.1,!=0.17.2,>=0.14.0 in /usr/local/lib/python3.8/dist-packages (from jsonschema>=2.6->nbformat->notebook>=4.4.1->widgetsnbextension~=3.6.0->ipywidgets<9,>=7.6.0->ipympl) (0.19.3)\n",
            "Requirement already satisfied: importlib-resources>=1.4.0 in /usr/local/lib/python3.8/dist-packages (from jsonschema>=2.6->nbformat->notebook>=4.4.1->widgetsnbextension~=3.6.0->ipywidgets<9,>=7.6.0->ipympl) (5.10.2)\n",
            "Requirement already satisfied: webencodings in /usr/local/lib/python3.8/dist-packages (from bleach->nbconvert<6.0->notebook>=4.4.1->widgetsnbextension~=3.6.0->ipywidgets<9,>=7.6.0->ipympl) (0.5.1)\n",
            "Requirement already satisfied: zipp>=3.1.0 in /usr/local/lib/python3.8/dist-packages (from importlib-resources>=1.4.0->jsonschema>=2.6->nbformat->notebook>=4.4.1->widgetsnbextension~=3.6.0->ipywidgets<9,>=7.6.0->ipympl) (3.11.0)\n",
            "Looking in indexes: https://pypi.org/simple, https://us-python.pkg.dev/colab-wheels/public/simple/, https://download.pytorch.org/whl/cpu\n",
            "Requirement already satisfied: torch==1.13 in /usr/local/lib/python3.8/dist-packages (1.13.0+cpu)\n",
            "Requirement already satisfied: typing-extensions in /usr/local/lib/python3.8/dist-packages (from torch==1.13) (4.4.0)\n"
          ]
        }
      ],
      "source": [
        "!pip install ipympl torchviz\n",
        "!pip install torch==1.13 --extra-index-url https://download.pytorch.org/whl/cpu\n",
        "# restart your runtime after this step"
      ]
    },
    {
      "cell_type": "code",
      "execution_count": 1,
      "id": "b2c6b958",
      "metadata": {
        "id": "b2c6b958"
      },
      "outputs": [],
      "source": [
        "import math\n",
        "import matplotlib.pyplot as plt\n",
        "import numpy as np\n",
        "import torch\n",
        "import torch.nn as nn\n",
        "from torch.autograd import Variable\n",
        "import tqdm\n",
        "\n",
        "import IPython\n",
        "from ipywidgets import interactive, widgets, Layout\n",
        "from IPython.display import display, HTML\n",
        "# import os\n",
        "# os.kill(os.getpid(), 9)"
      ]
    },
    {
      "cell_type": "code",
      "execution_count": 2,
      "id": "stAbSJUKJssH",
      "metadata": {
        "colab": {
          "base_uri": "https://localhost:8080/"
        },
        "id": "stAbSJUKJssH",
        "outputId": "203caddf-2015-4642-d403-5d93eafbf012"
      },
      "outputs": [
        {
          "output_type": "stream",
          "name": "stdout",
          "text": [
            "1.13.0+cpu False\n"
          ]
        }
      ],
      "source": [
        "print(torch.__version__, torch.cuda.is_available())\n",
        "# Homework 0 does not require a GPU"
      ]
    },
    {
      "cell_type": "code",
      "execution_count": 3,
      "id": "34d01662",
      "metadata": {
        "id": "34d01662"
      },
      "outputs": [],
      "source": [
        "# enable matplotlib widgets;\n",
        "\n",
        "# on Google Colab\n",
        "from google.colab import output\n",
        "output.enable_custom_widget_manager()\n",
        "\n",
        "%matplotlib widget"
      ]
    },
    {
      "cell_type": "code",
      "execution_count": 4,
      "id": "61cf3329",
      "metadata": {
        "id": "61cf3329"
      },
      "outputs": [],
      "source": [
        "# Constants\n",
        "cap_value = 1e-6          # Farads\n",
        "R_init = 500              # Ohms\n",
        "cutoff_mag = 1. / math.sqrt(2)\n",
        "cutoff_dB = 20 * math.log10(cutoff_mag)\n",
        "dataset_size = 1000\n",
        "max_training_steps = 100000"
      ]
    },
    {
      "cell_type": "markdown",
      "id": "6a5aebcb",
      "metadata": {
        "id": "6a5aebcb"
      },
      "source": [
        "## (a) Designing a Low Pass Filter by Matching Transfer Functions"
      ]
    },
    {
      "cell_type": "code",
      "execution_count": 5,
      "id": "103bf234",
      "metadata": {
        "id": "103bf234"
      },
      "outputs": [],
      "source": [
        "# Transfer function: evaluates magnitude of given frequencies for a resistor value in the low pass circuit\n",
        "def evaluate_lp_circuit(freqs, R_low):\n",
        "    return 1. / torch.sqrt(1 + (R_low * cap_value * freqs) ** 2)"
      ]
    },
    {
      "cell_type": "code",
      "execution_count": 44,
      "id": "b636c220",
      "metadata": {
        "colab": {
          "base_uri": "https://localhost:8080/",
          "height": 409,
          "referenced_widgets": [
            "4f4d419acb584d249f44b95358259401",
            "5e00cb0bb4f548b48658cff786d30691",
            "c69fa1cab3e549a889dab23bedd4c3e4",
            "9c1be3352f7341d9a7c279cb8a0f85c7",
            "851fdde297244e95b1bec1f041077bd7",
            "082a4aa70ade415dbf6e066f04d0094d",
            "733c089b22c941c99ab46943523b7099",
            "88a50bc2ae82433da0ee0065ebfdb706",
            "6eefbfd2ff2444a1bdfb42481ef72f39",
            "91623f7bc5914a74b4bf7b8718f615b6",
            "48c5a1614ded45d5b34ec0a15289f175"
          ]
        },
        "id": "b636c220",
        "outputId": "c25618bc-2490-4172-caa5-54a07fdacbc4"
      },
      "outputs": [
        {
          "output_type": "display_data",
          "data": {
            "text/plain": [
              "interactive(children=(IntSlider(value=200, description='R', layout=Layout(width='100%'), max=1000, min=1), Out…"
            ],
            "application/vnd.jupyter.widget-view+json": {
              "version_major": 2,
              "version_minor": 0,
              "model_id": "4f4d419acb584d249f44b95358259401"
            }
          },
          "metadata": {
            "application/vnd.jupyter.widget-view+json": {
              "colab": {
                "custom_widget_manager": {
                  "url": "https://ssl.gstatic.com/colaboratory-static/widgets/colab-cdn-widget-manager/b3e629b1971e1542/manager.min.js"
                }
              }
            }
          }
        },
        {
          "output_type": "display_data",
          "data": {
            "text/plain": [
              "Canvas(toolbar=Toolbar(toolitems=[('Home', 'Reset original view', 'home', 'home'), ('Back', 'Back to previous …"
            ],
            "image/png": "[encoded data removed]",
            "text/html": [
              "\n",
              "            <div style=\"display: inline-block;\">\n",
              "                <div class=\"jupyter-widgets widget-label\" style=\"text-align: center;\">\n",
              "                    Figure\n",
              "                </div>\n",
              "                <img src='data:image/png;base64,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' width=648.0/>\n",
              "            </div>\n",
              "        "
            ],
            "application/vnd.jupyter.widget-view+json": {
              "version_major": 2,
              "version_minor": 0,
              "model_id": "88a50bc2ae82433da0ee0065ebfdb706"
            }
          },
          "metadata": {
            "application/vnd.jupyter.widget-view+json": {
              "colab": {
                "custom_widget_manager": {
                  "url": "https://ssl.gstatic.com/colaboratory-static/widgets/colab-cdn-widget-manager/b3e629b1971e1542/manager.min.js"
                }
              }
            }
          }
        }
      ],
      "source": [
        "# Plot transfer function for a given low pass circuit\n",
        "fig = plt.figure(figsize=(9, 4))\n",
        "ws = 2 * math.pi * 10 ** torch.linspace(0, 6, 1000)\n",
        "mags = 20 * torch.log10(evaluate_lp_circuit(ws, R_init))\n",
        "R_low_des = 1 / (2 * math.pi * 800 * cap_value)\n",
        "mags_des = 20 * torch.log10(evaluate_lp_circuit(ws, R_low_des))\n",
        "tf, = plt.semilogx(ws / (2 * math.pi), mags, linewidth=3)\n",
        "tf_des, = plt.semilogx(ws / (2 * math.pi), mags_des, linestyle=\"--\", linewidth=3)\n",
        "plt.xlim([1, 1e6])\n",
        "plt.ylim([-60, 1])\n",
        "plt.title(\"Low Pass Transfer Functions\")\n",
        "plt.xlabel(\"Frequency (Hz)\")\n",
        "plt.ylabel(\"dB\")\n",
        "plt.grid(which=\"both\")\n",
        "leg = plt.legend([\"Predicted Transfer Function\", \"Desired Transfer Function\"])\n",
        "plt.tight_layout()\n",
        "\n",
        "# Main update function for interactive plot\n",
        "def update_tfs(R=R_init):\n",
        "    mags = 20 * torch.log10(evaluate_lp_circuit(ws, R))\n",
        "    tf.set_data(ws / (2 * math.pi), mags)\n",
        "    fig.canvas.draw_idle()\n",
        "    \n",
        "# Include sliders for relevant quantities\n",
        "ip = interactive(update_tfs, \n",
        "                 R=widgets.IntSlider(value=200, min=1, max=1000, step=1, description=\"R\", layout=Layout(width='100%')))\n",
        "ip"
      ]
    },
    {
      "cell_type": "markdown",
      "id": "c1b99831",
      "metadata": {
        "id": "c1b99831"
      },
      "source": [
        "## (b) Designing a Low pass Filter from Binary Data"
      ]
    },
    {
      "cell_type": "code",
      "execution_count": 43,
      "id": "c1ec5419",
      "metadata": {
        "colab": {
          "base_uri": "https://localhost:8080/",
          "height": 481,
          "referenced_widgets": [
            "07a855d5c2d0485892b9fb6587dc9ddf",
            "6f710a193d8e4ce285f325e1ea0784a3",
            "fec63d120b044044a37ee25c890a08ff",
            "b5f4b64b369846288911e88194d87b3d",
            "0fbf9d445a0e4009b39ef0b3313ac291",
            "267528e3cd3d4a1db8086f0dda0a0304",
            "571f785aad1e4dc091759d1c892c48a7",
            "f0f66b7e2cb24ade93e9156e6cb12060",
            "f5e985d447054904a8172026fcccd346",
            "2ecd24b6fa0744c2a8da616d2f24243b",
            "a49b7b98f3fa4a17ac196e6eee271f00"
          ]
        },
        "id": "c1ec5419",
        "outputId": "b75aafed-5782-45e6-9afe-f2fdea6970fa"
      },
      "outputs": [
        {
          "output_type": "display_data",
          "data": {
            "text/plain": [
              "interactive(children=(IntSlider(value=200, description='R', layout=Layout(width='100%'), max=1000, min=1), Out…"
            ],
            "application/vnd.jupyter.widget-view+json": {
              "version_major": 2,
              "version_minor": 0,
              "model_id": "07a855d5c2d0485892b9fb6587dc9ddf"
            }
          },
          "metadata": {
            "application/vnd.jupyter.widget-view+json": {
              "colab": {
                "custom_widget_manager": {
                  "url": "https://ssl.gstatic.com/colaboratory-static/widgets/colab-cdn-widget-manager/b3e629b1971e1542/manager.min.js"
                }
              }
            }
          }
        },
        {
          "output_type": "display_data",
          "data": {
            "text/plain": [
              "Canvas(toolbar=Toolbar(toolitems=[('Home', 'Reset original view', 'home', 'home'), ('Back', 'Back to previous …"
            ],
            "image/png": "[encoded data removed]",
            "text/html": [
              "\n",
              "            <div style=\"display: inline-block;\">\n",
              "                <div class=\"jupyter-widgets widget-label\" style=\"text-align: center;\">\n",
              "                    Figure\n",
              "                </div>\n",
              "                <img src='data:image/png;base64,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' width=648.0/>\n",
              "            </div>\n",
              "        "
            ],
            "application/vnd.jupyter.widget-view+json": {
              "version_major": 2,
              "version_minor": 0,
              "model_id": "f0f66b7e2cb24ade93e9156e6cb12060"
            }
          },
          "metadata": {
            "application/vnd.jupyter.widget-view+json": {
              "colab": {
                "custom_widget_manager": {
                  "url": "https://ssl.gstatic.com/colaboratory-static/widgets/colab-cdn-widget-manager/b3e629b1971e1542/manager.min.js"
                }
              }
            }
          }
        }
      ],
      "source": [
        "# Plot transfer function for a given low pass circuit\n",
        "fig = plt.figure(figsize=(9, 5))\n",
        "ws = 2 * math.pi * 10 ** torch.linspace(0, 6, 1000)\n",
        "mags = 20 * torch.log10(evaluate_lp_circuit(ws, R_init))\n",
        "cutoff = ws[np.argmax(mags < cutoff_dB)]\n",
        "tf, = plt.semilogx(ws / (2 * math.pi), mags, linewidth=3)\n",
        "cut = plt.axvline(cutoff / (2 * math.pi), c=\"red\", linestyle=\"--\", linewidth=3)\n",
        "plt.xlim([1, 1e6])\n",
        "plt.ylim([-60, 1])\n",
        "plt.title(\"Low Pass Transfer Function\")\n",
        "plt.xlabel(\"Frequency (Hz)\")\n",
        "plt.ylabel(\"dB\")\n",
        "plt.grid(which=\"both\")\n",
        "leg = plt.legend([\"Transfer Function\", f\"Cutoff Frequency ({1 / (2 * math.pi * R_init * cap_value):.0f} Hz)\"])\n",
        "\n",
        "# Plot table of LED on/off values (predicted and desired)\n",
        "ws_test = 2 * math.pi * np.linspace(300, 1500, num=7)\n",
        "table_txt = np.zeros((3, len(ws_test) + 1), dtype=\"U15\")\n",
        "table_txt[0, :] = [\"Frequency\"] + [f\"{w / (2 * math.pi):.0f} Hz\" for w in ws_test]\n",
        "table_txt[1:, 0] = [\"Predicted\", \"Desired\"]\n",
        "table_colors = np.zeros_like(table_txt, dtype=(np.int32, (3,)))\n",
        "table_colors[-1, 1:4] = (1, 0, 0)\n",
        "table_colors[1, 1] = (1, 0, 0)\n",
        "table_colors[:, :1] = (1, 1, 1)\n",
        "table_colors[:1, :] = (1, 1, 1)\n",
        "tab = plt.table(table_txt, table_colors, bbox=[0.0, -0.5, 1.0, 0.25], cellLoc=\"center\")\n",
        "plt.tight_layout()\n",
        "\n",
        "# Main update function for interactive plot\n",
        "def update_lights(R=R_init):\n",
        "    mags = 20 * torch.log10(evaluate_lp_circuit(ws, R))\n",
        "    cutoff = ws[np.argmax(mags < cutoff_dB)]\n",
        "    tf.set_data(ws / (2 * math.pi), mags)\n",
        "    cut.set_xdata(cutoff / (2 * math.pi))\n",
        "    for i, w in enumerate(ws_test):\n",
        "        if w < cutoff:\n",
        "            tab[(1, i+1)].set_facecolor((1, 0, 0))\n",
        "        else:\n",
        "            tab[(1, i+1)].set_facecolor((0, 0, 0))\n",
        "    leg.get_texts()[1].set_text(f\"Cutoff Frequency ({1 / (2 * math.pi * R * cap_value):.0f} Hz)\")\n",
        "    fig.canvas.draw_idle()\n",
        "    \n",
        "# Include sliders for relevant quantities\n",
        "ip = interactive(update_lights, \n",
        "                 R=widgets.IntSlider(value=200, min=1, max=1000, step=1, description=\"R\", layout=Layout(width='100%')))\n",
        "ip"
      ]
    },
    {
      "cell_type": "markdown",
      "id": "943a723c",
      "metadata": {
        "id": "943a723c"
      },
      "source": [
        "## (c) Learning a Low Pass Filter from Desired Transfer Function Samples"
      ]
    },
    {
      "cell_type": "code",
      "execution_count": 8,
      "id": "eb078f6c",
      "metadata": {
        "id": "eb078f6c"
      },
      "outputs": [],
      "source": [
        "# PyTorch model of the low pass circuit (for training)\n",
        "class LowPassCircuit(nn.Module):\n",
        "    def __init__(self, R=None):\n",
        "        super().__init__()\n",
        "        self.R = nn.Parameter(torch.tensor(R, dtype=float) if R is not None else torch.rand(1) * 1000)\n",
        "        \n",
        "    # Note: the forward function is called automatically when the __call__ function of this object is called\n",
        "    def forward(self, freqs):\n",
        "        return evaluate_lp_circuit(freqs, self.R)\n",
        "    \n",
        "# Generate training data in a uniform log scale of frequences, then evaluate using the true transfer function\n",
        "def generate_lp_training_data(n):\n",
        "    rand_ws = 2 * math.pi * torch.pow(10, torch.rand(n) * 6)\n",
        "    labels = evaluate_lp_circuit(rand_ws, R_low_des)\n",
        "    return rand_ws, labels\n",
        "\n",
        "# Train a given low pass filter\n",
        "def train_lp_circuit_tf(circuit, loss_fn, dataset_size, max_training_steps, lr):\n",
        "    \n",
        "    R_values = [float(circuit.R.data)]\n",
        "    grad_values = [np.nan]\n",
        "    train_data = generate_lp_training_data(dataset_size)\n",
        "    print(f\"Initial Resistor Value: R = {float(circuit.R.data):.0f}\")\n",
        "    iter_bar = tqdm.trange(max_training_steps, desc=\"Training Iter\")\n",
        "    for i in iter_bar:\n",
        "        pred = circuit(train_data[0])\n",
        "        loss = loss_fn(pred, train_data[1]).mean()\n",
        "        grad = torch.autograd.grad(loss, circuit.R)\n",
        "        with torch.no_grad():\n",
        "            circuit.R -= lr * grad[0]\n",
        "\n",
        "        R_values.append(float(circuit.R.data))\n",
        "        grad_values.append(float(grad[0].data))\n",
        "        iter_bar.set_postfix_str(f\"Loss: {float(loss.data):.3f}, R={float(circuit.R.data):.0f}\")\n",
        "        if loss.data < 1e-6 or abs(grad[0].data) < 1e-6:\n",
        "            break\n",
        "\n",
        "    print(f\"Final Resistor Value: R = {float(circuit.R.data):.0f}\")        \n",
        "    return train_data, R_values, grad_values"
      ]
    },
    {
      "cell_type": "code",
      "execution_count": 10,
      "id": "4502a565",
      "metadata": {
        "colab": {
          "base_uri": "https://localhost:8080/"
        },
        "id": "4502a565",
        "outputId": "c2648cca-518d-47c7-bb82-a3c8496fdbd9"
      },
      "outputs": [
        {
          "output_type": "stream",
          "name": "stdout",
          "text": [
            "Initial Resistor Value: R = 1000\n"
          ]
        },
        {
          "output_type": "stream",
          "name": "stderr",
          "text": [
            "Training Iter:   0%|          | 90/100000 [00:00<07:13, 230.55it/s, Loss: 0.000, R=200]"
          ]
        },
        {
          "output_type": "stream",
          "name": "stdout",
          "text": [
            "Final Resistor Value: R = 200\n"
          ]
        },
        {
          "output_type": "stream",
          "name": "stderr",
          "text": [
            "\n"
          ]
        }
      ],
      "source": [
        "# Create a circuit, use mean squared error loss w/ learning rate of 200\n",
        "circuit = LowPassCircuit(1000)\n",
        "loss_fn = lambda x, y: (x - y) ** 2\n",
        "lr = 200000\n",
        "train_data_low_tf, R_values_low_tf, grad_values_low_tf = train_lp_circuit_tf(circuit, loss_fn, dataset_size, max_training_steps, lr)"
      ]
    },
    {
      "cell_type": "code",
      "execution_count": 11,
      "id": "79fe9b39",
      "metadata": {
        "colab": {
          "base_uri": "https://localhost:8080/",
          "height": 553,
          "referenced_widgets": [
            "1b8ccecd4eea4dd0ac96989faa8c552e",
            "173322a668f0458a89805fdfe89f9a9f",
            "a8a011b1afd1474aa8b2419429d53784",
            "1db06ebb47fd48c7943482dd6b80243a",
            "03a6c50456444eecb03ab80879d9ed98",
            "2da071656a754dbbaf7c10b3b868b0b8",
            "4fb0877374944fb085c75e8e1a3f15d7",
            "b4bf93994b4c46cbae4a70d53bb1c537",
            "602cc101a31c4e8bbfee205eeeba2145",
            "b7969b93e84541cd8fa9da19cd0e488c",
            "e33b469b8ba34a5d80e03a75aecb253f"
          ]
        },
        "id": "79fe9b39",
        "outputId": "152e198a-389c-4a07-d159-6f2001dfab03"
      },
      "outputs": [
        {
          "output_type": "display_data",
          "data": {
            "text/plain": [
              "interactive(children=(IntSlider(value=0, description='Training Iteration', layout=Layout(width='100%'), max=91…"
            ],
            "application/vnd.jupyter.widget-view+json": {
              "version_major": 2,
              "version_minor": 0,
              "model_id": "1b8ccecd4eea4dd0ac96989faa8c552e"
            }
          },
          "metadata": {
            "application/vnd.jupyter.widget-view+json": {
              "colab": {
                "custom_widget_manager": {
                  "url": "https://ssl.gstatic.com/colaboratory-static/widgets/colab-cdn-widget-manager/b3e629b1971e1542/manager.min.js"
                }
              }
            }
          }
        },
        {
          "output_type": "display_data",
          "data": {
            "text/plain": [
              "Canvas(toolbar=Toolbar(toolitems=[('Home', 'Reset original view', 'home', 'home'), ('Back', 'Back to previous …"
            ],
            "image/png": "[encoded data removed]",
            "text/html": [
              "\n",
              "            <div style=\"display: inline-block;\">\n",
              "                <div class=\"jupyter-widgets widget-label\" style=\"text-align: center;\">\n",
              "                    Figure\n",
              "                </div>\n",
              "                <img src='data:image/png;base64,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' width=648.0/>\n",
              "            </div>\n",
              "        "
            ],
            "application/vnd.jupyter.widget-view+json": {
              "version_major": 2,
              "version_minor": 0,
              "model_id": "b4bf93994b4c46cbae4a70d53bb1c537"
            }
          },
          "metadata": {
            "application/vnd.jupyter.widget-view+json": {
              "colab": {
                "custom_widget_manager": {
                  "url": "https://ssl.gstatic.com/colaboratory-static/widgets/colab-cdn-widget-manager/b3e629b1971e1542/manager.min.js"
                }
              }
            }
          }
        }
      ],
      "source": [
        "# Plot transfer function over training\n",
        "fig, ((ax1, ax2), (ax3, ax4)) = plt.subplots(2, 2, figsize=(9, 6))\n",
        "ws = 2 * math.pi * 10 ** torch.linspace(0, 6, 1000)\n",
        "subsample = int(dataset_size / 100)\n",
        "ax1.scatter(train_data_low_tf[0][::subsample] / (2 * math.pi), 20 * torch.log10(train_data_low_tf[1][::subsample]), c=\"k\", marker=\"x\")\n",
        "learned_tf, = ax1.semilogx(ws / (2 * math.pi), 20 * torch.log10(evaluate_lp_circuit(ws, R_values_low_tf[0])), linewidth=3)\n",
        "ax1.set_xlim([1, 1e6])\n",
        "ax1.set_title(\"Transfer Function\")\n",
        "ax1.set_xlabel(\"Frequency (Hz)\")\n",
        "ax1.set_ylabel(\"dB\")\n",
        "ax1.legend([\"Learned Transfer Function\", \"True Transfer Function Samples\"])\n",
        "\n",
        "# Show loss surface over training\n",
        "eval_pts = torch.arange(10, 1001, 1)\n",
        "eval_vals = evaluate_lp_circuit(train_data_low_tf[0][:, None], eval_pts[None, :])\n",
        "loss_surface_mse = loss_fn(eval_vals, train_data_low_tf[1][:, None].expand(eval_vals.shape))\n",
        "ax2.plot(eval_pts, loss_surface_mse.sum(0), linewidth=3)\n",
        "cur_loss, = ax2.plot(R_values_low_tf[0], loss_surface_mse[:, int(R_values_low_tf[0] - 10)].sum(0), marker=\"o\")\n",
        "cur_loss_label = ax2.annotate(f\"R = {R_values_low_tf[0]:.0f}\", (0, 0), xytext=(0.82, 0.9), textcoords='axes fraction')\n",
        "ax2.set_title(\"Loss Surface\")\n",
        "ax2.set_xlim([0, 1000])\n",
        "ax2.set_xlabel(\"$R \\; (\\Omega)$\")\n",
        "ax2.set_ylabel(\"Loss\")\n",
        "\n",
        "# Show loss contributions of each data point\n",
        "cur_circuit = LowPassCircuit(R_values_low_tf[0])\n",
        "data_losses = loss_fn(cur_circuit(train_data_low_tf[0][::subsample]), (train_data_low_tf[1][::subsample]).float())\n",
        "data_grads = torch.zeros(len(data_losses))\n",
        "for i, dl in enumerate(data_losses):\n",
        "    data_grads[i] = torch.autograd.grad(dl, cur_circuit.R, retain_graph=True)[0]\n",
        "data_grads_scat = ax3.scatter(train_data_low_tf[0][::subsample] / (2 * math.pi), data_grads, marker=\"x\", c=\"k\")\n",
        "ax3.set_xscale(\"log\")\n",
        "ax3.set_ylabel(\"Derivative\")\n",
        "ax3.set_xlim([1, 1e6])\n",
        "ax3.set_ylim([-1e-4, 1e-3])\n",
        "ax3.set_xlabel(\"Frequency (Hz)\")\n",
        "ax3.set_title(\"Derivative by Training Datapoint\")\n",
        "\n",
        "# Show total gradient at each training iteration\n",
        "ax4.plot(np.arange(len(grad_values_low_tf)), grad_values_low_tf, linewidth=3)\n",
        "cur_iter, = ax4.plot(0, grad_values_low_tf[0], marker=\"o\")\n",
        "cur_grad_label = ax4.annotate(f\"Grad = {grad_values_low_tf[0]:.2e}\", (0, 0), xytext=(0.65, 0.9), textcoords='axes fraction')\n",
        "ax4.set_xlabel(\"Training Iteration\")\n",
        "ax4.set_ylabel(\"Gradient\")\n",
        "ax4.set_title(\"Gradients\")\n",
        "ax4.set_xlim([-1, len(grad_values_low_tf)])\n",
        "\n",
        "plt.tight_layout()\n",
        "\n",
        "# Main update function for interactive plots\n",
        "def update_iter_tf(t=0):\n",
        "    learned_tf.set_data(ws / (2 * math.pi), 20 * torch.log10(evaluate_lp_circuit(ws, R_values_low_tf[t])))\n",
        "    cur_loss.set_data(R_values_low_tf[t], loss_surface_mse[:, int(R_values_low_tf[t] - 10)].sum(0))\n",
        "    cur_loss_label.set_text(f\"R = {R_values_low_tf[t]:.0f}\")\n",
        "    cur_iter.set_data(t, grad_values_low_tf[t])\n",
        "    cur_grad_label.set_text(f\"Grad = {grad_values_low_tf[t]:.2e}\")\n",
        "    cur_circuit = LowPassCircuit(R_values_low_tf[t])\n",
        "    data_losses = loss_fn(cur_circuit(train_data_low_tf[0][::subsample]), (train_data_low_tf[1][::subsample]).float())\n",
        "    data_grads = torch.zeros(len(data_losses))\n",
        "    for i, dl in enumerate(data_losses):\n",
        "        data_grads[i] = torch.autograd.grad(dl, cur_circuit.R, retain_graph=True)[0]\n",
        "    data_grads_scat.set_offsets(torch.stack((train_data_low_tf[0][::subsample] / (2 * math.pi), data_grads)).T)\n",
        "    fig.canvas.draw_idle()\n",
        "    \n",
        "# Include sliders for relevant quantities\n",
        "ip = interactive(update_iter_tf, \n",
        "                 t=widgets.IntSlider(value=0, min=0, max=len(R_values_low_tf) - 1, step=1, description=\"Training Iteration\", style={'description_width': 'initial'}, layout=Layout(width='100%')))\n",
        "ip"
      ]
    },
    {
      "cell_type": "markdown",
      "id": "38bd4f56",
      "metadata": {
        "id": "38bd4f56"
      },
      "source": [
        "## (d) Learning a Low Pass Filter from Binary Data with Mean Squared Error Loss"
      ]
    },
    {
      "cell_type": "code",
      "execution_count": 39,
      "id": "cd02eb2e",
      "metadata": {
        "id": "cd02eb2e"
      },
      "outputs": [],
      "source": [
        "# Train a given low pass filter from binary data\n",
        "def train_lp_circuit_binary(circuit, loss_fn, dataset_size, max_training_steps, lr):\n",
        "    \n",
        "    R_values = [float(circuit.R.data)]\n",
        "    grad_values = [np.nan]\n",
        "    train_data = generate_lp_training_data(dataset_size)\n",
        "    print(f\"Initial Resistor Value: R = {float(circuit.R.data):.0f}\")\n",
        "    iter_bar = tqdm.trange(max_training_steps, desc=\"Training Iter\")\n",
        "    for i in iter_bar:\n",
        "        pred = circuit(train_data[0])\n",
        "        ### YOUR CODE HERE\n",
        "        # pred_zero = torch.zeros_like(pred)\n",
        "        # pred_one = torch.ones_like(pred)\n",
        "        # pred = torch.where(pred < cutoff_mag, pred_zero, pred)\n",
        "        # pred = torch.where(pred > cutoff_mag, pred_one, pred)\n",
        "        test_zero = torch.zeros_like(train_data[1])\n",
        "        test_one = torch.ones_like(train_data[1])\n",
        "        train1 = torch.where(train_data[1] <= cutoff_mag, test_zero, train_data[1])\n",
        "        train2 = torch.where(train_data[1] > cutoff_mag, test_one, train1)\n",
        "        # pred=pred.float()\n",
        "        train2 = train2.float()\n",
        "        loss = loss_fn(pred, train2).mean()\n",
        "        ### END YOUR CODE\n",
        "        grad = torch.autograd.grad(loss, circuit.R)\n",
        "        with torch.no_grad():\n",
        "            circuit.R -= lr * grad[0]\n",
        "\n",
        "        R_values.append(float(circuit.R.data))\n",
        "        grad_values.append(float(grad[0].data))\n",
        "        iter_bar.set_postfix_str(f\"Loss: {float(loss.data):.3f}, R={float(circuit.R.data):.0f}\")\n",
        "        if loss.data < 1e-6 or abs(grad[0].data) < 1e-6:\n",
        "            break\n",
        "\n",
        "    print(f\"Final Resistor Value: R = {float(circuit.R.data):.0f}\")        \n",
        "    return train_data, R_values, grad_values"
      ]
    },
    {
      "cell_type": "code",
      "execution_count": 42,
      "id": "93cf1d40",
      "metadata": {
        "colab": {
          "base_uri": "https://localhost:8080/"
        },
        "id": "93cf1d40",
        "outputId": "bc015ecb-eb43-4c40-e102-85a591273629"
      },
      "outputs": [
        {
          "output_type": "stream",
          "name": "stdout",
          "text": [
            "Initial Resistor Value: R = 500\n"
          ]
        },
        {
          "output_type": "stream",
          "name": "stderr",
          "text": [
            "Training Iter:  12%|█▏        | 11645/100000 [00:36<04:39, 315.90it/s, Loss: 0.017, R=342]"
          ]
        },
        {
          "output_type": "stream",
          "name": "stdout",
          "text": [
            "Final Resistor Value: R = 342\n"
          ]
        },
        {
          "output_type": "stream",
          "name": "stderr",
          "text": [
            "\n"
          ]
        }
      ],
      "source": [
        "# Create a circuit, use MSE loss with learning rate of 200\n",
        "circuit = LowPassCircuit(500)\n",
        "loss_fn = lambda x, y: (x - y) ** 2\n",
        "lr = 1000\n",
        "train_data_low_bin, R_values_low_bin, grad_values_low_bin = train_lp_circuit_binary(circuit, loss_fn, dataset_size, max_training_steps, lr)"
      ]
    },
    {
      "cell_type": "code",
      "execution_count": null,
      "id": "0f86febe",
      "metadata": {
        "id": "0f86febe"
      },
      "outputs": [],
      "source": [
        "# Plot transfer function over training\n",
        "fig, ((ax1, ax2), (ax3, ax4)) = plt.subplots(2, 2, figsize=(9, 6))\n",
        "ws = 2 * math.pi * 10 ** torch.linspace(0, 6, 1000)\n",
        "subsample = int(dataset_size / 100)\n",
        "train_data_mask = train_data_low_bin[1][::subsample] > cutoff_mag\n",
        "ax1.scatter(train_data_low_bin[0][::subsample][train_data_mask] / (2 * math.pi), np.ones(train_data_mask.sum()), c=\"r\", marker=\"x\")\n",
        "ax1.scatter(train_data_low_bin[0][::subsample][~train_data_mask] / (2 * math.pi), np.zeros((~train_data_mask).sum()), c=\"k\", marker=\"x\")\n",
        "mags = evaluate_lp_circuit(ws, R_values_low_bin[0])\n",
        "learned_tf, = ax1.semilogx(ws / (2 * math.pi), mags, linewidth=3)\n",
        "cutoff = ws[np.argmax(mags < cutoff_mag)]\n",
        "cut = ax1.axvline(cutoff / (2 * math.pi), c=\"red\", linestyle=\"--\", linewidth=3)\n",
        "ax1.set_xlim([1, 1e6])\n",
        "ax1.set_title(\"Transfer Function\")\n",
        "ax1.set_xlabel(\"Frequency (Hz)\")\n",
        "ax1.set_ylabel(\"Magnitude\")\n",
        "ax1.legend([\"Learned TF\", \"Learned $f_c$\", \"TF + Samples\", \"TF - Samples\"])\n",
        "\n",
        "# Show loss surface over training\n",
        "eval_pts = torch.arange(10, 1001, 1)\n",
        "eval_vals = evaluate_lp_circuit(train_data_low_bin[0][:, None], eval_pts[None, :])\n",
        "loss_surface_mse = loss_fn(eval_vals, (train_data_low_bin[1][:, None].expand(eval_vals.shape) > cutoff_mag).float())\n",
        "ax2.plot(eval_pts, loss_surface_mse.sum(0), linewidth=3)\n",
        "cur_loss, = ax2.plot(R_values_low_bin[0], loss_surface_mse[:, int(R_values_low_bin[0] - 10)].sum(0), marker=\"o\")\n",
        "cur_loss_label = ax2.annotate(f\"R = {R_values_low_bin[0]:.0f}\", (0, 0), xytext=(0.82, 0.9), textcoords='axes fraction')\n",
        "ax2.set_title(\"Loss Surface\")\n",
        "ax2.set_xlim([0, 1000])\n",
        "ax2.set_xlabel(\"$R \\; (\\Omega)$\")\n",
        "ax2.set_ylabel(\"Loss\")\n",
        "\n",
        "# Show loss contributions of each data point\n",
        "cur_circuit = LowPassCircuit(R_values_low_bin[0])\n",
        "data_losses = loss_fn(cur_circuit(train_data_low_bin[0][::subsample]), (train_data_low_bin[1][::subsample] > cutoff_mag).float())\n",
        "data_grads = torch.zeros(len(data_losses))\n",
        "for i, dl in enumerate(data_losses):\n",
        "    data_grads[i] = torch.autograd.grad(dl, cur_circuit.R, retain_graph=True)[0]\n",
        "data_grads_scat = ax3.scatter(train_data_low_bin[0][::subsample] / (2 * math.pi), data_grads, marker=\"x\", c=\"k\")\n",
        "ax3.set_xscale(\"log\")\n",
        "ax3.set_ylabel(\"Derivative\")\n",
        "ax3.set_xlim([1, 1e6])\n",
        "ax3.set_ylim([-1.5e-3, 1.5e-3])\n",
        "ax3.set_xlabel(\"Frequency (Hz)\")\n",
        "ax3.set_title(\"Derivative by Training Datapoint\")\n",
        "\n",
        "# Show gradient at each training iteration\n",
        "ax4.plot(np.arange(len(grad_values_low_bin)), grad_values_low_bin, linewidth=3)\n",
        "cur_iter, = ax4.plot(0, grad_values_low_bin[0], marker=\"o\")\n",
        "cur_grad_label = ax4.annotate(f\"Grad = {grad_values_low_bin[0]:.2e}\", (0, 0), xytext=(0.65, 0.9), textcoords='axes fraction')\n",
        "ax4.set_xlabel(\"Training Iteration\")\n",
        "ax4.set_ylabel(\"Gradient\")\n",
        "ax4.set_title(\"Gradients\")\n",
        "ax4.set_xlim([-1, len(grad_values_low_bin)])\n",
        "\n",
        "plt.tight_layout()\n",
        "\n",
        "# Main update function for interactive plots\n",
        "def update_iter_low_bin(t=0):\n",
        "    mags = evaluate_lp_circuit(ws, R_values_low_bin[t])\n",
        "    learned_tf.set_data(ws / (2 * math.pi), mags)\n",
        "    cutoff = ws[np.argmax(mags < cutoff_mag)]\n",
        "    cut.set_xdata(cutoff / (2 * math.pi))\n",
        "    cur_loss.set_data(R_values_low_bin[t], loss_surface_mse[:, int(R_values_low_bin[t] - 10)].sum(0))\n",
        "    cur_loss_label.set_text(f\"R = {R_values_low_bin[t]:.0f}\")\n",
        "    cur_iter.set_data(t, grad_values_low_bin[t])\n",
        "    cur_grad_label.set_text(f\"Grad = {grad_values_low_bin[t]:.2e}\")\n",
        "    cur_circuit = LowPassCircuit(R_values_low_bin[t])\n",
        "    data_losses = loss_fn(cur_circuit(train_data_low_bin[0][::subsample]), (train_data_low_bin[1][::subsample] > cutoff_mag).float())\n",
        "    data_grads = torch.zeros(len(data_losses))\n",
        "    for i, dl in enumerate(data_losses):\n",
        "        data_grads[i] = torch.autograd.grad(dl, cur_circuit.R, retain_graph=True)[0]\n",
        "    data_grads_scat.set_offsets(torch.stack((train_data_low_bin[0][::subsample] / (2 * math.pi), data_grads)).T)\n",
        "    fig.canvas.draw_idle()\n",
        "    \n",
        "# Include sliders for relevant quantities\n",
        "ip = interactive(update_iter_low_bin, \n",
        "                 t=widgets.IntSlider(value=0, min=0, max=len(R_values_low_bin) - 1, step=1, description=\"Training Iteration\", style={'description_width': 'initial'}, layout=Layout(width='100%')))\n",
        "ip"
      ]
    },
    {
      "cell_type": "markdown",
      "id": "320acfe9",
      "metadata": {
        "id": "320acfe9"
      },
      "source": [
        "## (e) Learning a Low Pass Filter from Binary Data with a Different Loss"
      ]
    },
    {
      "cell_type": "code",
      "execution_count": null,
      "id": "c6b1d442",
      "metadata": {
        "id": "c6b1d442"
      },
      "outputs": [],
      "source": [
        "circuit = LowPassCircuit(500)\n",
        "### YOUR CODE HERE\n",
        "loss_fn = lambda x, y: ?\n",
        "### END YOUR CODE\n",
        "train_data_low_bin, R_values_low_bin, grad_values_low_bin = train_lp_circuit_binary(circuit, loss_fn, dataset_size, max_training_steps, lr)"
      ]
    },
    {
      "cell_type": "code",
      "execution_count": null,
      "id": "a43257ab",
      "metadata": {
        "id": "a43257ab"
      },
      "outputs": [],
      "source": [
        "# Plot transfer function over training\n",
        "fig, ((ax1, ax2), (ax3, ax4)) = plt.subplots(2, 2, figsize=(9, 6))\n",
        "ws = 2 * math.pi * 10 ** torch.linspace(0, 6, 1000)\n",
        "subsample = int(dataset_size / 100)\n",
        "train_data_mask = train_data_low_bin[1][::subsample] > cutoff_mag\n",
        "ax1.scatter(train_data_low_bin[0][::subsample][train_data_mask] / (2 * math.pi), np.ones(train_data_mask.sum()), c=\"r\", marker=\"x\")\n",
        "ax1.scatter(train_data_low_bin[0][::subsample][~train_data_mask] / (2 * math.pi), np.zeros((~train_data_mask).sum()), c=\"k\", marker=\"x\")\n",
        "mags = evaluate_lp_circuit(ws, R_values_low_bin[0])\n",
        "learned_tf, = ax1.semilogx(ws / (2 * math.pi), mags, linewidth=3)\n",
        "cutoff = ws[np.argmax(mags < cutoff_mag)]\n",
        "cut = ax1.axvline(cutoff / (2 * math.pi), c=\"red\", linestyle=\"--\", linewidth=3)\n",
        "ax1.set_xlim([1, 1e6])\n",
        "ax1.set_title(\"Transfer Function\")\n",
        "ax1.set_xlabel(\"Frequency (Hz)\")\n",
        "ax1.set_ylabel(\"Magnitude\")\n",
        "ax1.legend([\"Learned TF\", \"Learned $f_c$\", \"TF + Samples\", \"TF - Samples\"])\n",
        "\n",
        "# Show loss surface over training\n",
        "eval_pts = torch.arange(10, 1001, 1)\n",
        "eval_vals = evaluate_lp_circuit(train_data_low_bin[0][:, None], eval_pts[None, :])\n",
        "loss_surface_mse = loss_fn(eval_vals, (train_data_low_bin[1][:, None].expand(eval_vals.shape) > cutoff_mag).float())\n",
        "ax2.plot(eval_pts, loss_surface_mse.sum(0), linewidth=3)\n",
        "cur_loss, = ax2.plot(R_values_low_bin[0], loss_surface_mse[:, int(R_values_low_bin[0] - 10)].sum(0), marker=\"o\")\n",
        "cur_loss_label = ax2.annotate(f\"R = {R_values_low_bin[0]:.0f}\", (0, 0), xytext=(0.82, 0.9), textcoords='axes fraction')\n",
        "ax2.set_title(\"Loss Surface\")\n",
        "ax2.set_xlim([0, 1000])\n",
        "ax2.set_xlabel(\"$R \\; (\\Omega)$\")\n",
        "ax2.set_ylabel(\"Loss\")\n",
        "\n",
        "# Show loss contributions of each data point\n",
        "cur_circuit = LowPassCircuit(R_values_low_bin[0])\n",
        "data_losses = loss_fn(cur_circuit(train_data_low_bin[0][::subsample]), (train_data_low_bin[1][::subsample] > cutoff_mag).float())\n",
        "data_grads = torch.zeros(len(data_losses))\n",
        "for i, dl in enumerate(data_losses):\n",
        "    data_grads[i] = torch.autograd.grad(dl, cur_circuit.R, retain_graph=True)[0]\n",
        "data_grads_scat = ax3.scatter(train_data_low_bin[0][::subsample] / (2 * math.pi), data_grads, marker=\"x\", c=\"k\")\n",
        "ax3.set_xscale(\"log\")\n",
        "ax3.set_ylabel(\"Derivative\")\n",
        "ax3.set_xlim([1, 1e6])\n",
        "ax3.set_ylim([-1.5e-3, 1.5e-3])\n",
        "ax3.set_xlabel(\"Frequency (Hz)\")\n",
        "ax3.set_title(\"Derivative by Training Datapoint\")\n",
        "\n",
        "# Show gradient at each training iteration\n",
        "ax4.plot(np.arange(len(grad_values_low_bin)), grad_values_low_bin, linewidth=3)\n",
        "cur_iter, = ax4.plot(0, grad_values_low_bin[0], marker=\"o\")\n",
        "cur_grad_label = ax4.annotate(f\"Grad = {grad_values_low_bin[0]:.2e}\", (0, 0), xytext=(0.65, 0.9), textcoords='axes fraction')\n",
        "ax4.set_xlabel(\"Training Iteration\")\n",
        "ax4.set_ylabel(\"Gradient\")\n",
        "ax4.set_title(\"Gradients\")\n",
        "ax4.set_xlim([-1, len(grad_values_low_bin)])\n",
        "\n",
        "plt.tight_layout()\n",
        "\n",
        "# Main update function for interactive plots\n",
        "def update_iter_low_bin(t=0):\n",
        "    mags = evaluate_lp_circuit(ws, R_values_low_bin[t])\n",
        "    learned_tf.set_data(ws / (2 * math.pi), mags)\n",
        "    cutoff = ws[np.argmax(mags < cutoff_mag)]\n",
        "    cut.set_xdata(cutoff / (2 * math.pi))\n",
        "    cur_loss.set_data(R_values_low_bin[t], loss_surface_mse[:, int(R_values_low_bin[t] - 10)].sum(0))\n",
        "    cur_loss_label.set_text(f\"R = {R_values_low_bin[t]:.0f}\")\n",
        "    cur_iter.set_data(t, grad_values_low_bin[t])\n",
        "    cur_grad_label.set_text(f\"Grad = {grad_values_low_bin[t]:.2e}\")\n",
        "    cur_circuit = LowPassCircuit(R_values_low_bin[t])\n",
        "    data_losses = loss_fn(cur_circuit(train_data_low_bin[0][::subsample]), (train_data_low_bin[1][::subsample] > cutoff_mag).float())\n",
        "    data_grads = torch.zeros(len(data_losses))\n",
        "    for i, dl in enumerate(data_losses):\n",
        "        data_grads[i] = torch.autograd.grad(dl, cur_circuit.R, retain_graph=True)[0]\n",
        "    data_grads_scat.set_offsets(torch.stack((train_data_low_bin[0][::subsample] / (2 * math.pi), data_grads)).T)\n",
        "    fig.canvas.draw_idle()\n",
        "    \n",
        "# Include sliders for relevant quantities\n",
        "ip = interactive(update_iter_low_bin, \n",
        "                 t=widgets.IntSlider(value=0, min=0, max=len(R_values_low_bin) - 1, step=1, description=\"Training Iteration\", style={'description_width': 'initial'}, layout=Layout(width='100%')))\n",
        "ip"
      ]
    },
    {
      "cell_type": "markdown",
      "id": "6284868f",
      "metadata": {
        "id": "6284868f"
      },
      "source": [
        "## (f) Learning a High Pass Filter from Binary Data"
      ]
    },
    {
      "cell_type": "code",
      "execution_count": null,
      "id": "f66e7a16",
      "metadata": {
        "id": "f66e7a16"
      },
      "outputs": [],
      "source": [
        "# Transfer function: evaluates magnitude of given frequencies for a resistor value in the high pass circuit\n",
        "def evaluate_hp_circuit(freqs, R_high):\n",
        "    ### YOUR CODE HERE\n",
        "    return ?\n",
        "    ### END YOUR CODE\n",
        "\n",
        "# PyTorch model of the high pass circuit (for training)\n",
        "class HighPassCircuit(nn.Module):\n",
        "    def __init__(self, R=None):\n",
        "        super().__init__()\n",
        "        self.R = nn.Parameter(torch.tensor(R, dtype=float) if R is not None else torch.rand(1) * 1000)\n",
        "        \n",
        "    def forward(self, freqs):\n",
        "        return evaluate_hp_circuit(freqs, self.R)\n",
        "    \n",
        "# Generate training data in a uniform log scale of frequences, then evaluate using the true transfer function\n",
        "R_high_des = 1 / (2 * math.pi * 5000 * cap_value)\n",
        "def generate_hp_training_data(n):\n",
        "    rand_ws = 2 * math.pi * torch.pow(10, torch.rand(n) * 6)\n",
        "    labels = evaluate_hp_circuit(rand_ws, R_high_des)\n",
        "    return rand_ws, labels\n",
        "\n",
        "# Train a given low pass filter from binary data\n",
        "def train_hp_circuit_binary(circuit, loss_fn, dataset_size, max_training_steps, lr):\n",
        "    \n",
        "    R_values = [float(circuit.R.data)]\n",
        "    grad_values = [np.nan]\n",
        "    train_data = generate_hp_training_data(dataset_size)\n",
        "    print(f\"Initial Resistor Value: R = {float(circuit.R.data):.0f}\")\n",
        "    iter_bar = tqdm.trange(max_training_steps, desc=\"Training Iter\")\n",
        "    for i in iter_bar:\n",
        "        pred = circuit(train_data[0])\n",
        "        loss = loss_fn(pred, (train_data[1] > cutoff_mag).float()).mean()\n",
        "        ### YOUR CODE HERE\n",
        "        grad = torch.autograd.grad(?, ?)\n",
        "        ### END YOUR CODE\n",
        "        with torch.no_grad():\n",
        "            ### YOUR CODE HERE\n",
        "            circuit.R -= ?\n",
        "            ### END YOUR CODE\n",
        "            \n",
        "        R_values.append(float(circuit.R.data))\n",
        "        grad_values.append(float(grad[0].data))\n",
        "        iter_bar.set_postfix_str(f\"Loss: {float(loss.data):.3f}, R={float(circuit.R.data):.0f}\")\n",
        "        if loss.data < 1e-6 or abs(grad[0].data) < 1e-6:\n",
        "            break\n",
        "\n",
        "    print(f\"Final Resistor Value: R = {float(circuit.R.data):.0f}\")        \n",
        "    return train_data, R_values, grad_values"
      ]
    },
    {
      "cell_type": "code",
      "execution_count": null,
      "id": "83d01c6a",
      "metadata": {
        "id": "83d01c6a"
      },
      "outputs": [],
      "source": [
        "# Create a circuit, use loss_fn with learning rate of 1000\n",
        "circuit = HighPassCircuit(500)\n",
        "### YOUR CODE HERE\n",
        "lambda x, y: ?\n",
        "### END YOUR CODE\n",
        "lr = 1000\n",
        "train_data_high_bin, R_values_high_bin, grad_values_high_bin = train_hp_circuit_binary(circuit, loss_fn, dataset_size, max_training_steps, lr)"
      ]
    },
    {
      "cell_type": "code",
      "execution_count": null,
      "id": "209aee6b",
      "metadata": {
        "id": "209aee6b"
      },
      "outputs": [],
      "source": [
        "# Plot transfer function over training\n",
        "fig, ((ax1, ax2), (ax3, ax4)) = plt.subplots(2, 2, figsize=(9, 6))\n",
        "ws = 2 * math.pi * 10 ** torch.linspace(0, 6, 1000)\n",
        "subsample = int(dataset_size / 100)\n",
        "train_data_mask = train_data_high_bin[1][::subsample] > cutoff_mag\n",
        "ax1.scatter(train_data_high_bin[0][::subsample][train_data_mask] / (2 * math.pi), np.ones(train_data_mask.sum()), c=\"r\", marker=\"x\")\n",
        "ax1.scatter(train_data_high_bin[0][::subsample][~train_data_mask] / (2 * math.pi), np.zeros((~train_data_mask).sum()), c=\"k\", marker=\"x\")\n",
        "mags = evaluate_hp_circuit(ws, R_values_high_bin[0])\n",
        "learned_tf, = ax1.semilogx(ws / (2 * math.pi), mags, linewidth=3)\n",
        "cutoff = ws[np.argmax(mags > cutoff_mag)]\n",
        "cut = ax1.axvline(cutoff / (2 * math.pi), c=\"red\", linestyle=\"--\", linewidth=3)\n",
        "ax1.set_xlim([1, 1e6])\n",
        "ax1.set_title(\"Transfer Function\")\n",
        "ax1.set_xlabel(\"Frequency (Hz)\")\n",
        "ax1.set_ylabel(\"Magnitude\")\n",
        "ax1.legend([\"Learned TF\", \"Learned $f_c$\", \"TF + Samples\", \"TF - Samples\"])\n",
        "\n",
        "# Show loss surface over training\n",
        "eval_pts = torch.arange(10, 1001, 1)\n",
        "eval_vals = evaluate_hp_circuit(train_data_high_bin[0][:, None], eval_pts[None, :])\n",
        "loss_surface_mse = loss_fn(eval_vals, (train_data_high_bin[1][:, None].expand(eval_vals.shape) > cutoff_mag).float())\n",
        "ax2.plot(eval_pts, loss_surface_mse.sum(0), linewidth=3)\n",
        "cur_loss, = ax2.plot(R_values_high_bin[0], loss_surface_mse[:, int(R_values_high_bin[0] - 10)].sum(0), marker=\"o\")\n",
        "cur_loss_label = ax2.annotate(f\"R = {R_values_high_bin[0]:.0f}\", (0, 0), xytext=(0.82, 0.9), textcoords='axes fraction')\n",
        "ax2.set_title(\"Loss Surface\")\n",
        "ax2.set_xlim([0, 1000])\n",
        "ax2.set_xlabel(\"$R \\; (\\Omega)$\")\n",
        "ax2.set_ylabel(\"Loss\")\n",
        "\n",
        "# Show loss contributions of each data point\n",
        "cur_circuit = HighPassCircuit(R_values_high_bin[0])\n",
        "data_losses = loss_fn(cur_circuit(train_data_high_bin[0][::subsample]), (train_data_high_bin[1][::subsample] > cutoff_mag).float())\n",
        "data_grads = torch.zeros(len(data_losses))\n",
        "for i, dl in enumerate(data_losses):\n",
        "    data_grads[i] = torch.autograd.grad(dl, cur_circuit.R, retain_graph=True)[0]\n",
        "data_grads_scat = ax3.scatter(train_data_high_bin[0][::subsample] / (2 * math.pi), data_grads, marker=\"x\", c=\"k\")\n",
        "ax3.set_xscale(\"log\")\n",
        "ax3.set_ylabel(\"Derivative\")\n",
        "ax3.set_xlim([1, 1e6])\n",
        "ax3.set_ylim([-3e-3, 3e-3])\n",
        "ax3.set_xlabel(\"Frequency (Hz)\")\n",
        "ax3.set_title(\"Derivative by Training Datapoint\")\n",
        "\n",
        "# Show gradient at each training iteration\n",
        "ax4.plot(np.arange(len(grad_values_high_bin)), grad_values_high_bin, linewidth=3)\n",
        "cur_iter, = ax4.plot(0, grad_values_high_bin[0], marker=\"o\")\n",
        "cur_grad_label = ax4.annotate(f\"Grad = {grad_values_high_bin[0]:.2e}\", (0, 0), xytext=(0.65, 0.9), textcoords='axes fraction')\n",
        "ax4.set_xlabel(\"Training Iteration\")\n",
        "ax4.set_ylabel(\"Gradient\")\n",
        "ax4.set_title(\"Gradients\")\n",
        "ax4.set_xlim([-1, len(grad_values_high_bin)])\n",
        "\n",
        "plt.tight_layout()\n",
        "\n",
        "# Main update function for interactive plots\n",
        "def update_iter_high_bin(t=0):\n",
        "    mags = evaluate_hp_circuit(ws, R_values_high_bin[t])\n",
        "    learned_tf.set_data(ws / (2 * math.pi), mags)\n",
        "    cutoff = ws[np.argmax(mags > cutoff_mag)]\n",
        "    cut.set_xdata(cutoff / (2 * math.pi))\n",
        "    cur_loss.set_data(R_values_high_bin[t], loss_surface_mse[:, int(R_values_high_bin[t] - 10)].sum(0))\n",
        "    cur_loss_label.set_text(f\"R = {R_values_high_bin[t]:.0f}\")\n",
        "    cur_iter.set_data(t, grad_values_high_bin[t])\n",
        "    cur_grad_label.set_text(f\"Grad = {grad_values_high_bin[t]:.2e}\")\n",
        "    cur_circuit = HighPassCircuit(R_values_high_bin[t])\n",
        "    data_losses = loss_fn(cur_circuit(train_data_high_bin[0][::subsample]), (train_data_high_bin[1][::subsample] > cutoff_mag).float())\n",
        "    data_grads = torch.zeros(len(data_losses))\n",
        "    for i, dl in enumerate(data_losses):\n",
        "        data_grads[i] = torch.autograd.grad(dl, cur_circuit.R, retain_graph=True)[0]\n",
        "    data_grads_scat.set_offsets(torch.stack((train_data_high_bin[0][::subsample] / (2 * math.pi), data_grads)).T)\n",
        "    fig.canvas.draw_idle()\n",
        "    \n",
        "# Include sliders for relevant quantities\n",
        "ip = interactive(update_iter_high_bin, \n",
        "                 t=widgets.IntSlider(value=0, min=0, max=len(R_values_high_bin) - 1, step=1, description=\"Training Iteration\", style={'description_width': 'initial'}, layout=Layout(width='100%')))\n",
        "ip"
      ]
    },
    {
      "cell_type": "markdown",
      "id": "95e0606c",
      "metadata": {
        "id": "95e0606c"
      },
      "source": [
        "## (g) Learning a Band Pass Filter from Binary Data"
      ]
    },
    {
      "cell_type": "code",
      "execution_count": null,
      "id": "17a763da",
      "metadata": {
        "id": "17a763da"
      },
      "outputs": [],
      "source": [
        "# Transfer function: evaluates magnitude of given frequencies for resistor values in the band pass circuit\n",
        "def evaluate_bp_circuit(freqs, R_low, R_high):\n",
        "    ### YOUR CODE HERE\n",
        "    return ?\n",
        "    ### END YOUR CODE\n",
        "\n",
        "# PyTorch model of the band pass circuit (for training)\n",
        "class BandPassCircuit(nn.Module):\n",
        "    def __init__(self, R_low=None, R_high=None):\n",
        "        super().__init__()\n",
        "        self.R_low = nn.Parameter(torch.tensor(R_low, dtype=float) if R_low is not None else torch.rand(1) * 1000)\n",
        "        self.R_high = nn.Parameter(torch.tensor(R_high, dtype=float) if R_high is not None else torch.rand(1) * 1000)\n",
        "        \n",
        "    def forward(self, freqs):\n",
        "        return evaluate_bp_circuit(freqs, self.R_low, self.R_high)\n",
        "    \n",
        "# Generate training data in a uniform log scale of frequences, then evaluate using true transfer function\n",
        "R_low_des = 1 / (2 * math.pi * 4000 * cap_value)\n",
        "R_high_des = 1 / (2 * math.pi * 1000 * cap_value)\n",
        "def generate_bp_training_data(n):\n",
        "    rand_ws = 2 * math.pi * torch.pow(10, torch.rand(n) * 6)\n",
        "    labels = evaluate_bp_circuit(rand_ws, R_low_des, R_high_des)\n",
        "    return rand_ws, labels\n",
        "\n",
        "# Train a given low pass filter from binary data\n",
        "def train_bp_circuit_binary(circuit, loss_fn, dataset_size, max_training_steps, lr):\n",
        "    \n",
        "    R_values = [[float(circuit.R_low.data), float(circuit.R_high.data)]]\n",
        "    grad_values = [[np.nan, np.nan]]\n",
        "    train_data = generate_bp_training_data(dataset_size)\n",
        "    print(f\"Initial Resistor Values: R_low = {float(circuit.R_low.data):.0f}, R_high = {float(circuit.R_high.data):.0f}\")\n",
        "    iter_bar = tqdm.trange(max_training_steps, desc=\"Training Iter\")\n",
        "    for i in iter_bar:\n",
        "        pred = circuit(train_data[0])\n",
        "        loss = loss_fn(pred, (train_data[1] > cutoff_mag).float()).mean()\n",
        "        ### YOUR CODE HERE\n",
        "        grad = torch.autograd.grad(?, ?)\n",
        "        ### END YOUR CODE\n",
        "        with torch.no_grad():\n",
        "            ### YOUR CODE HERE\n",
        "            circuit.R_low -= ?\n",
        "            circuit.R_high -= ?\n",
        "            ### END YOUR CODE\n",
        "            \n",
        "        R_values.append([float(circuit.R_low.data), float(circuit.R_high.data)])\n",
        "        grad_values.append([float(grad[0].data), float(grad[1].data)])\n",
        "        iter_bar.set_postfix_str(f\"Loss: {float(loss.data):.3f}, R_low={float(circuit.R_low.data):.0f}, R_high={float(circuit.R_high.data):.0f}\")\n",
        "        if loss.data < 1e-6 or (abs(grad[0].data) < 1e-6 and abs(grad[1].data) < 1e-6):\n",
        "            break\n",
        "\n",
        "    print(f\"Final Resistor Values: R_low = {float(circuit.R_low.data):.0f}, R_high = {float(circuit.R_high.data):.0f}\")\n",
        "    return train_data, R_values, grad_values"
      ]
    },
    {
      "cell_type": "code",
      "execution_count": null,
      "id": "07eea001",
      "metadata": {
        "id": "07eea001"
      },
      "outputs": [],
      "source": [
        "# Create a circuit, use loss_fn with learning rate of 1000\n",
        "circuit = BandPassCircuit(500, 500)\n",
        "lr = 1000\n",
        "train_data_band_bin, R_values_band_bin, grad_values_band_bin = train_bp_circuit_binary(circuit, loss_fn, dataset_size, max_training_steps, lr)"
      ]
    },
    {
      "cell_type": "code",
      "execution_count": null,
      "id": "eee25792",
      "metadata": {
        "id": "eee25792"
      },
      "outputs": [],
      "source": [
        "# Plot transfer function over training\n",
        "fig, ((ax1, ax2), (ax3, ax4)) = plt.subplots(2, 2, figsize=(9, 6))\n",
        "ws = 2 * math.pi * 10 ** torch.linspace(0, 6, 1000)\n",
        "subsample = int(dataset_size / 100)\n",
        "train_data_mask = train_data_band_bin[1][::subsample] > cutoff_mag\n",
        "ax1.scatter(train_data_band_bin[0][::subsample][train_data_mask] / (2 * math.pi), np.ones(train_data_mask.sum()), c=\"r\", marker=\"x\")\n",
        "ax1.scatter(train_data_band_bin[0][::subsample][~train_data_mask] / (2 * math.pi), np.zeros((~train_data_mask).sum()), c=\"k\", marker=\"x\")\n",
        "learned_tf, = ax1.semilogx(ws / (2 * math.pi), evaluate_bp_circuit(ws, *R_values_band_bin[0]), linewidth=3)\n",
        "ax1.set_xlim([1, 1e6])\n",
        "ax1.set_title(\"Transfer Function\")\n",
        "ax1.set_xlabel(\"Frequency (Hz)\")\n",
        "ax1.set_ylabel(\"Magnitude\")\n",
        "ax1.legend([\"Learned TF\", \"TF + Samples\", \"TF - Samples\"])\n",
        "\n",
        "# Show loss surfaces for BCE and MSE Loss\n",
        "eval_pts = torch.stack(torch.meshgrid((torch.arange(0, 1000, 10), torch.arange(0, 1000, 10)), indexing=\"ij\"))\n",
        "eval_vals = evaluate_bp_circuit(train_data_band_bin[0][:, None, None], eval_pts[0][None, ...], eval_pts[1][None, ...])\n",
        "loss_surface = loss_fn(eval_vals, (train_data_band_bin[1][..., None, None].expand(eval_vals.shape) > cutoff_mag).float())\n",
        "loss_surf = ax2.imshow(torch.log(loss_surface.mean(0)).T, cmap=plt.cm.jet, extent=(0, 1000, 0, 1000), aspect=\"auto\", origin=\"lower\")\n",
        "cur_loss, = ax2.plot(*R_values_band_bin[0], marker=\"o\")\n",
        "cur_loss_label = ax2.annotate(f\"R_low = {R_values_band_bin[0][0]:.0f}\\nR_high = {R_values_band_bin[0][1]:.0f}\", (0, 0), xytext=(0.6, 0.85), textcoords='axes fraction')\n",
        "ax2.set_title(\"Loss Surface\")\n",
        "ax2.set_xlabel(\"$R_\\mathrm{low} \\; (\\Omega)$\")\n",
        "ax2.set_ylabel(\"$R_\\mathrm{high} \\; (\\Omega)$\")\n",
        "fig.colorbar(loss_surf, ax=ax2, label=\"log(loss)\")\n",
        "\n",
        "# Show loss contributions of each data point\n",
        "cur_circuit = BandPassCircuit(*R_values_band_bin[0])\n",
        "data_losses = loss_fn(cur_circuit(train_data_band_bin[0][::subsample]), (train_data_band_bin[1][::subsample] > cutoff_mag).float())\n",
        "data_grads = torch.zeros((len(data_losses), 2))\n",
        "for i, dl in enumerate(data_losses):\n",
        "    data_grads[i] = torch.tensor(torch.autograd.grad(dl, (cur_circuit.R_low, cur_circuit.R_high), retain_graph=True))\n",
        "data_grads_scat1 = ax3.scatter(train_data_band_bin[0][::subsample] / (2 * math.pi), data_grads[:, 0], marker=\"x\")\n",
        "data_grads_scat2 = ax3.scatter(train_data_band_bin[0][::subsample] / (2 * math.pi), data_grads[:, 1], marker=\"x\")\n",
        "ax3.set_xscale(\"log\")\n",
        "ax3.set_ylabel(\"Derivative\")\n",
        "ax3.set_xlim([1, 1e6])\n",
        "ax3.set_ylim([-2e-3, 2e-3])\n",
        "ax3.set_xlabel(\"Frequency (Hz)\")\n",
        "ax3.set_title(\"Derivative by Training Datapoint\")\n",
        "ax3.legend([\"$R_\\mathrm{low}$ Derivatives\", \"$R_\\mathrm{high}$ Derivatives\"])\n",
        "\n",
        "# Show gradient at each training iteration\n",
        "ax4.plot(np.arange(len(grad_values_band_bin)), grad_values_band_bin, linewidth=3)\n",
        "cur_grad0, = ax4.plot(0, grad_values_band_bin[0][0], marker=\"o\")\n",
        "cur_grad1, = ax4.plot(0, grad_values_band_bin[0][1], marker=\"o\")\n",
        "ax4.set_xlabel(\"Training Iteration\")\n",
        "ax4.set_ylabel(\"Gradient\")\n",
        "ax4.set_title(\"Gradients\")\n",
        "ax4.set_xlim([-1, len(grad_values_band_bin)])\n",
        "ax4.legend([\"$R_\\mathrm{low}$ Grad\", \"$R_\\mathrm{high}$ Grad\"])\n",
        "\n",
        "plt.tight_layout()\n",
        "\n",
        "# Main update function for interactive plots\n",
        "def update_iter_band_bin(t=0):\n",
        "    mags = evaluate_bp_circuit(ws, *R_values_band_bin[t])\n",
        "    learned_tf.set_data(ws / (2 * math.pi), mags)\n",
        "    cur_loss.set_data(*R_values_band_bin[t])\n",
        "    cur_loss_label.set_text(f\"R_low = {R_values_band_bin[t][0]:.0f}\\nR_high = {R_values_band_bin[t][1]:.0f}\")\n",
        "    cur_grad0.set_data(t, grad_values_band_bin[t][0])\n",
        "    cur_grad1.set_data(t, grad_values_band_bin[t][1])\n",
        "    cur_circuit = BandPassCircuit(*R_values_band_bin[t])\n",
        "    data_losses = loss_fn(cur_circuit(train_data_band_bin[0][::subsample]), (train_data_band_bin[1][::subsample] > cutoff_mag).float())\n",
        "    data_grads = torch.zeros((len(data_losses), 2))\n",
        "    for i, dl in enumerate(data_losses):\n",
        "        data_grads[i] = torch.tensor(torch.autograd.grad(dl, (cur_circuit.R_low, cur_circuit.R_high), retain_graph=True))\n",
        "    data_grads_scat1.set_offsets(torch.stack((train_data_band_bin[0][::subsample] / (2 * math.pi), data_grads[:, 0])).T)\n",
        "    data_grads_scat2.set_offsets(torch.stack((train_data_band_bin[0][::subsample] / (2 * math.pi), data_grads[:, 1])).T)\n",
        "    fig.canvas.draw_idle()\n",
        "    \n",
        "# Include sliders for relevant quantities\n",
        "ip = interactive(update_iter_band_bin, \n",
        "                 t=widgets.IntSlider(value=0, min=0, max=len(R_values_band_bin) - 1, step=1, description=\"Training Iteration\", style={'description_width': 'initial'}, layout=Layout(width='100%')))\n",
        "ip"
      ]
    },
    {
      "cell_type": "markdown",
      "id": "18acd86a",
      "metadata": {
        "id": "18acd86a"
      },
      "source": [
        "## (h) Learning a Band Pass Filter Bode Plot from Transfer Function Samples"
      ]
    },
    {
      "cell_type": "code",
      "execution_count": null,
      "id": "0e7a1ef2",
      "metadata": {
        "id": "0e7a1ef2"
      },
      "outputs": [],
      "source": [
        "def evaluate_bp_bode(freqs, low_cutoff, high_cutoff):\n",
        "    return -20 * nn.ReLU()(torch.log10(freqs / low_cutoff)) + -20 * nn.ReLU()(torch.log10(high_cutoff / freqs))\n",
        "\n",
        "# PyTorch model of the band pass bode plot\n",
        "class BandPassBodePlot(nn.Module):\n",
        "    def __init__(self, low_cutoff=None, high_cutoff=None):\n",
        "        super().__init__()\n",
        "        self.low_cutoff = nn.Parameter(torch.rand(1) * 5000 if low_cutoff is None else torch.tensor(float(low_cutoff)))\n",
        "        self.high_cutoff = nn.Parameter(torch.rand(1) * 5000 if high_cutoff is None else torch.tensor(float(high_cutoff)))\n",
        "        \n",
        "    def forward(self, freqs):\n",
        "        return evaluate_bp_bode(freqs, self.low_cutoff, self.high_cutoff)\n",
        "\n",
        "# Train a given band pass bode plot\n",
        "def train_bp_bode(bode, loss_fn, dataset_size, max_training_steps, lr):\n",
        "    \n",
        "    cutoff_values = [[float(bode.low_cutoff.data), float(bode.high_cutoff.data)]]\n",
        "    grad_values = [[np.nan, np.nan]]\n",
        "    train_data = generate_bp_training_data(dataset_size)\n",
        "    print(f\"Initial Cutoff Values: f_c,l = {float(bode.low_cutoff.data / (2 * math.pi)):.0f} Hz, f_c,h = {float(bode.high_cutoff.data / (2 * math.pi)):.0f} Hz\")\n",
        "    iter_bar = tqdm.trange(max_training_steps, desc=\"Training Iter\")\n",
        "    for i in iter_bar:\n",
        "        \n",
        "        pred = bode(train_data[0])\n",
        "        loss = loss_fn(pred, 20 * torch.log10(train_data[1])).mean()\n",
        "        grad = torch.autograd.grad(loss, (bode.low_cutoff, bode.high_cutoff))\n",
        "        with torch.no_grad():\n",
        "            bode.low_cutoff -= lr * grad[0]\n",
        "            bode.high_cutoff -= lr * grad[1]\n",
        "        \n",
        "        cutoff_values.append([float(bode.low_cutoff.data), float(bode.high_cutoff.data)])\n",
        "        grad_values.append([float(grad[0].data), float(grad[1].data)])\n",
        "        iter_bar.set_postfix_str(f\"Loss: {float(loss.data):.3f}, f_c,l = {float(bode.low_cutoff.data / (2 * math.pi)):.0f} Hz, f_c,h = {float(bode.high_cutoff.data / (2 * math.pi)):.0f} Hz\")\n",
        "        if loss.data < 1e-6 or (abs(grad[0].data) < 1e-6 and abs(grad[1].data) < 1e-6):\n",
        "            break\n",
        "\n",
        "    print(f\"Final Cutoff Values: f_c,l = {float(bode.low_cutoff.data / (2 * math.pi)):.0f} Hz, f_c,h = {float(bode.high_cutoff.data / (2 * math.pi)):.0f} Hz\")\n",
        "    return train_data, cutoff_values, grad_values"
      ]
    },
    {
      "cell_type": "code",
      "execution_count": null,
      "id": "e74b7515",
      "metadata": {
        "id": "e74b7515"
      },
      "outputs": [],
      "source": [
        "bode = BandPassBodePlot()\n",
        "loss_fn = lambda x, y: (x - y) ** 2    # MSE loss\n",
        "lr = 1000\n",
        "train_data_band_bode, cutoffs_band_bode, grad_values_band_bode = train_bp_bode(bode, loss_fn, dataset_size, max_training_steps, lr)"
      ]
    },
    {
      "cell_type": "code",
      "execution_count": null,
      "id": "c4352b63",
      "metadata": {
        "id": "c4352b63"
      },
      "outputs": [],
      "source": [
        "# Plot transfer function over training\n",
        "fig, ((ax1, ax2), (ax3, ax4)) = plt.subplots(2, 2, figsize=(9, 6))\n",
        "ws = 2 * math.pi * 10 ** torch.linspace(0, 6, 1000)\n",
        "subsample = int(dataset_size / 100)\n",
        "train_data_mask = train_data_band_bode[1][::subsample] > cutoff_mag\n",
        "ax1.scatter(train_data_band_bode[0][::subsample]/ (2 * math.pi), 20 * torch.log10(train_data_band_bode[1][::subsample]), c=\"k\", marker=\"x\")\n",
        "learned_tf, = ax1.semilogx(ws / (2 * math.pi), evaluate_bp_bode(ws, *cutoffs_band_bode[0]), linewidth=3)\n",
        "ax1.set_xlim([1, 1e6])\n",
        "ax1.set_title(\"Transfer Function\")\n",
        "ax1.set_xlabel(\"Frequency (Hz)\")\n",
        "ax1.set_ylabel(\"dB\")\n",
        "ax1.legend([\"Learned Bode Plot\", \"TF Samples\"])\n",
        "\n",
        "# Show loss surfaces for BCE and MSE Loss\n",
        "eval_pts = torch.stack(torch.meshgrid((torch.arange(1, 5001, 50), torch.arange(1, 5001, 50)), indexing=\"ij\"))\n",
        "eval_vals = evaluate_bp_bode(train_data_band_bode[0][:, None, None], 2 * math.pi * eval_pts[0][None, ...], 2 * math.pi * eval_pts[1][None, ...])\n",
        "loss_surface = loss_fn(eval_vals, 20 * torch.log10(train_data_band_bode[1])[..., None, None].expand(eval_vals.shape))\n",
        "loss_surf = ax2.imshow(torch.log(loss_surface.mean(0)).T, cmap=plt.cm.jet, extent=(1, 5000, 1, 5000), aspect=\"auto\", origin=\"lower\")\n",
        "cur_loss, = ax2.plot(cutoffs_band_bode[0][0] / (2 * math.pi), cutoffs_band_bode[0][1] / (2 * math.pi), marker=\"o\")\n",
        "cur_loss_label = ax2.annotate(f\"$f_{{c,l}}$ = {cutoffs_band_bode[0][0]:.0f}\\n$f_{{c,h}}$ = {cutoffs_band_bode[0][1]:.0f}\", (0, 0), xytext=(0.7, 0.82), textcoords='axes fraction')\n",
        "ax2.set_title(\"Loss Surface\")\n",
        "ax2.set_xlabel(\"$f_\\mathrm{c,low} \\; (Hz)$\")\n",
        "ax2.set_ylabel(\"$f_\\mathrm{c,high} \\; (Hz)$\")\n",
        "fig.colorbar(loss_surf, ax=ax2, label=\"log(loss)\")\n",
        "\n",
        "# Show loss contributions of each data point\n",
        "cur_bode = BandPassBodePlot(*cutoffs_band_bode[0])\n",
        "data_losses = loss_fn(cur_bode(train_data_band_bode[0][::subsample]), 20 * torch.log10(train_data_band_bode[1][::subsample]))\n",
        "data_grads = torch.zeros((len(data_losses), 2))\n",
        "for i, dl in enumerate(data_losses):\n",
        "    data_grads[i] = torch.tensor(torch.autograd.grad(dl, (cur_bode.low_cutoff, cur_bode.high_cutoff), retain_graph=True))\n",
        "data_grads_scat1 = ax3.scatter(train_data_band_bode[0][::subsample] / (2 * math.pi), data_grads[:, 0], marker=\"x\")\n",
        "data_grads_scat2 = ax3.scatter(train_data_band_bode[0][::subsample] / (2 * math.pi), data_grads[:, 1], marker=\"x\")\n",
        "ax3.set_xscale(\"log\")\n",
        "ax3.set_ylabel(\"Derivative\")\n",
        "ax3.set_xlim([1, 1e6])\n",
        "ax3.set_ylim([-5e-3, 5e-3])\n",
        "ax3.set_xlabel(\"Frequency (Hz)\")\n",
        "ax3.set_title(\"Derivative by Training Datapoint\")\n",
        "ax3.legend([\"$f_{c,l}$ Derivatives\", \"$f_{c,h}$ Derivatives\"])\n",
        "\n",
        "# Show gradient at each training iteration\n",
        "ax4.plot(np.arange(len(grad_values_band_bode)), grad_values_band_bode, linewidth=3)\n",
        "cur_grad0, = ax4.plot(0, grad_values_band_bode[0][0], marker=\"o\")\n",
        "cur_grad1, = ax4.plot(0, grad_values_band_bode[0][1], marker=\"o\")\n",
        "ax4.set_xlabel(\"Training Iteration\")\n",
        "ax4.set_ylabel(\"Gradient\")\n",
        "ax4.set_title(\"Gradients\")\n",
        "ax4.set_xlim([-1, len(grad_values_band_bode)])\n",
        "ax4.legend([\"$f_\\mathrm{c,l}$ Grad\", \"$f_\\mathrm{c,h}$ Grad\"])\n",
        "\n",
        "plt.tight_layout()\n",
        "\n",
        "# Main update function for interactive plots\n",
        "def update_iter_band_bode(t=0):\n",
        "    learned_tf.set_data(ws / (2 * math.pi), evaluate_bp_bode(ws, *cutoffs_band_bode[t]))\n",
        "    cur_loss.set_data(cutoffs_band_bode[t][0] / (2 * math.pi), cutoffs_band_bode[t][1] / (2 * math.pi))\n",
        "    cur_loss_label.set_text(f\"$f_{{c,l}}$ = {cutoffs_band_bode[t][0] / (2 * math.pi):.0f}\\n$f_{{c,h}}$ = {cutoffs_band_bode[t][1] / (2 * math.pi):.0f}\")\n",
        "    cur_grad0.set_data(t, grad_values_band_bode[t][0])\n",
        "    cur_grad1.set_data(t, grad_values_band_bode[t][1])\n",
        "    cur_bode = BandPassBodePlot(*cutoffs_band_bode[t])\n",
        "    data_losses = loss_fn(cur_bode(train_data_band_bode[0][::subsample]), 20 * torch.log10(train_data_band_bode[1][::subsample]))\n",
        "    data_grads = torch.zeros((len(data_losses), 2))\n",
        "    for i, dl in enumerate(data_losses):\n",
        "        data_grads[i] = torch.tensor(torch.autograd.grad(dl, (cur_bode.low_cutoff, cur_bode.high_cutoff), retain_graph=True))\n",
        "    data_grads_scat1.set_offsets(torch.stack((train_data_band_bode[0][::subsample] / (2 * math.pi), data_grads[:, 0])).T)\n",
        "    data_grads_scat2.set_offsets(torch.stack((train_data_band_bode[0][::subsample] / (2 * math.pi), data_grads[:, 1])).T)\n",
        "    fig.canvas.draw_idle()\n",
        "    \n",
        "# Include sliders for relevant quantities\n",
        "ip = interactive(update_iter_band_bode, \n",
        "                 t=widgets.IntSlider(value=0, min=0, max=len(cutoffs_band_bode) - 1, step=1, description=\"Training Iteration\", style={'description_width': 'initial'}, layout=Layout(width='100%')))\n",
        "ip"
      ]
    },
    {
      "cell_type": "markdown",
      "id": "09a08e57",
      "metadata": {
        "id": "09a08e57"
      },
      "source": [
        "## (i) Learn a Color Organ Circuit"
      ]
    },
    {
      "cell_type": "code",
      "execution_count": null,
      "id": "0fd16f07",
      "metadata": {
        "id": "0fd16f07"
      },
      "outputs": [],
      "source": [
        "# PyTorch model of the color organ circuit\n",
        "class ColorOrganCircuit(nn.Module):\n",
        "    def __init__(self, R_low=None, R_high=None, R_band_low=None, R_band_high=None):\n",
        "        super().__init__()\n",
        "        self.low = LowPassCircuit(R_low)\n",
        "        self.high = HighPassCircuit(R_high)\n",
        "        self.band = BandPassCircuit(R_band_low, R_band_high)\n",
        "        \n",
        "    def forward(self, freqs):\n",
        "        return torch.stack((self.low(freqs), self.band(freqs), self.high(freqs)))\n",
        "    \n",
        "    \n",
        "# Generate training data in a uniform log scale of frequences, then evaluate using the true transfer function\n",
        "R_low_des = 1 / (2 * math.pi * 800 * cap_value)\n",
        "R_band_low_des = 1 / (2 * math.pi * 4000 * cap_value)\n",
        "R_band_high_des = 1 / (2 * math.pi * 1000 * cap_value)\n",
        "R_high_des = 1 / (2 * math.pi * 5000 * cap_value)\n",
        "def generate_co_training_data(n):\n",
        "    rand_ws = 2 * math.pi * torch.pow(10, torch.rand(n) * 6)\n",
        "    labels = torch.stack((evaluate_lp_circuit(rand_ws, R_low_des), evaluate_bp_circuit(rand_ws, R_band_low_des, R_band_high_des), evaluate_hp_circuit(rand_ws, R_high_des)))\n",
        "    return rand_ws, labels\n",
        "\n",
        "# Train a given color organ circuit\n",
        "def train_co_circuit(circuit, loss_fn, dataset_size, max_training_steps, lr):\n",
        "    \n",
        "    R_values = [[float(circuit.low.R.data), float(circuit.band.R_low.data), float(circuit.band.R_high.data), float(circuit.high.R.data)]]\n",
        "    grad_values = [[np.nan, np.nan, np.nan, np.nan]]\n",
        "    train_data = generate_co_training_data(dataset_size)\n",
        "    print(f\"Initial Resistor Values: LP: {float(circuit.low.R.data):.0f} Ohms, BP (Low): {float(circuit.band.R_low.data):.0f} Ohms, BP (High): {float(circuit.band.R_high.data):.0f} Ohms, HP: {float(circuit.high.R.data):.0f} Ohms\")\n",
        "    \n",
        "    iter_bar = tqdm.trange(max_training_steps, desc=\"Training Iter\")\n",
        "    for i in iter_bar:\n",
        "        pred = circuit(train_data[0])\n",
        "        loss = loss_fn(pred, (train_data[1] > cutoff_mag).float()).mean()\n",
        "        grad = torch.autograd.grad(loss, (circuit.low.R, circuit.band.R_low, circuit.band.R_high, circuit.high.R))\n",
        "        with torch.no_grad():\n",
        "            circuit.low.R -= lr * grad[0]\n",
        "            circuit.band.R_low -= lr * grad[1]\n",
        "            circuit.band.R_high -= lr * grad[2]\n",
        "            circuit.high.R -= lr * grad[3]\n",
        "            \n",
        "        R_values.append([float(circuit.low.R.data), float(circuit.band.R_low.data), float(circuit.band.R_high.data), float(circuit.high.R.data)])\n",
        "        grad_values.append([float(grad[0].data), float(grad[1].data), float(grad[2].data), float(grad[3].data)])\n",
        "        iter_bar.set_postfix_str(f\"Loss: {float(loss.data):.3f}, Rs = {float(circuit.low.R.data):.0f}, {float(circuit.band.R_low.data):.0f}, {float(circuit.band.R_high.data):.0f}, {float(circuit.high.R.data):.0f}\")\n",
        "        if loss.data < 1e-6 or (abs(grad[0].data) < 1e-6 and abs(grad[1].data) < 1e-6):\n",
        "            break\n",
        "\n",
        "    print(f\"Final Resistor Values: LP: {float(circuit.low.R.data):.0f} Ohms, BP (Low): {float(circuit.band.R_low.data):.0f} Ohms, BP (High): {float(circuit.band.R_high.data):.0f} Ohms, HP: {float(circuit.high.R.data):.0f} Ohms\")\n",
        "    print(f\"Final Cutoff Frequencies: LP: {1 / (2 * math.pi * cap_value * float(circuit.low.R.data)):.0f} Hz, BP (Low): {1 / (2 * math.pi * cap_value * float(circuit.band.R_low.data)):.0f} Hz, BP (High): {1 / (2 * math.pi * cap_value * float(circuit.band.R_high.data)):.0f} Hz, HP: {1 / (2 * math.pi * cap_value * float(circuit.high.R.data)):.0f} Hz\")\n",
        "    return train_data, R_values, grad_values"
      ]
    },
    {
      "cell_type": "code",
      "execution_count": null,
      "id": "4b7ffa2b",
      "metadata": {
        "id": "4b7ffa2b"
      },
      "outputs": [],
      "source": [
        "co = ColorOrganCircuit(200, 200, 200, 200)\n",
        "loss_fn = lambda x, y: (x - (0.3 + 0.7 * y)) ** 2   # weighted MSE loss\n",
        "lr = 500\n",
        "train_data_co, R_values_co, grad_values_co = train_co_circuit(co, loss_fn, dataset_size, max_training_steps, lr)"
      ]
    },
    {
      "cell_type": "code",
      "execution_count": null,
      "id": "17593172",
      "metadata": {
        "id": "17593172"
      },
      "outputs": [],
      "source": [
        "# Plot transfer function over training\n",
        "fig, ax1 = plt.subplots(1, 1, figsize=(9, 6))\n",
        "ws = 2 * math.pi * 10 ** torch.linspace(0, 6, 1000)\n",
        "subsample = int(dataset_size / 250)\n",
        "train_data_mask = train_data_co[1][:, ::subsample] > cutoff_mag\n",
        "learned_tf1, = ax1.semilogx(ws / (2 * math.pi), evaluate_lp_circuit(ws, R_values_co[0][0]), linewidth=3)\n",
        "learned_tf2, = ax1.semilogx(ws / (2 * math.pi), evaluate_bp_circuit(ws, *R_values_co[0][1:3]), linewidth=3)\n",
        "learned_tf3, = ax1.semilogx(ws / (2 * math.pi), evaluate_hp_circuit(ws, R_values_co[0][-1]), linewidth=3)\n",
        "ax1.scatter(train_data_co[0][::subsample][train_data_mask[0]] / (2 * math.pi), np.ones(train_data_mask[0].sum()), c=learned_tf1.get_color(), marker=\"x\")\n",
        "ax1.scatter(train_data_co[0][::subsample][train_data_mask[1]] / (2 * math.pi), np.ones(train_data_mask[1].sum()), c=learned_tf2.get_color(), marker=\"x\")\n",
        "ax1.scatter(train_data_co[0][::subsample][train_data_mask[2]] / (2 * math.pi), np.ones(train_data_mask[2].sum()), c=learned_tf3.get_color(), marker=\"x\")\n",
        "# ax1.scatter(train_data_co[0][::subsample][(~train_data_mask).all(0)] / (2 * math.pi), np.zeros((~(train_data_mask.any(0))).sum()), c=\"k\", marker=\"x\")\n",
        "ax1.set_xlim([1, 1e6])\n",
        "ax1.set_title(\"Transfer Function\")\n",
        "ax1.set_xlabel(\"Frequency (Hz)\")\n",
        "ax1.set_ylabel(\"Magnitude\")\n",
        "ax1.legend([\"Learned LP\", \"Learned BP\", \"Learned HP\", \n",
        "            \"TF + Samples (LP)\", \"TF + Samples (BP)\", \"TF + Samples (HP)\", \n",
        "            \"TF - Samples\"], bbox_to_anchor=(1.05, 1), loc='upper left', ncol=1)\n",
        "\n",
        "plt.tight_layout()\n",
        "\n",
        "# Main update function for interactive plots\n",
        "def update_iter_co(t=0):\n",
        "    learned_tf1.set_data(ws / (2 * math.pi), evaluate_lp_circuit(ws, R_values_co[t][0]))\n",
        "    learned_tf2.set_data(ws / (2 * math.pi), evaluate_bp_circuit(ws, *R_values_co[t][1:3]))\n",
        "    learned_tf3.set_data(ws / (2 * math.pi), evaluate_hp_circuit(ws, R_values_co[t][-1]))\n",
        "    fig.canvas.draw_idle()\n",
        "    \n",
        "# Include sliders for relevant quantities\n",
        "ip = interactive(update_iter_co, \n",
        "                 t=widgets.IntSlider(value=0, min=0, max=len(R_values_co) - 1, step=1, description=\"Training Iteration\", style={'description_width': 'initial'}, layout=Layout(width='100%')))\n",
        "ip"
      ]
    },
    {
      "cell_type": "markdown",
      "id": "d6cfaa10",
      "metadata": {
        "id": "d6cfaa10"
      },
      "source": [
        "## Visualizing the computation graph for the Color Organ"
      ]
    },
    {
      "cell_type": "code",
      "execution_count": null,
      "id": "2521bdf5",
      "metadata": {
        "id": "2521bdf5"
      },
      "outputs": [],
      "source": [
        "from torchviz import make_dot\n",
        "make_dot(co(generate_co_training_data(dataset_size)[0]), params=dict(co.named_parameters()))"
      ]
    }
  ],
  "metadata": {
    "language_info": {
      "name": "python"
    },
    "colab": {
      "provenance": []
    },
    "kernelspec": {
      "name": "python3",
      "display_name": "Python 3"
    },
    "gpuClass": "standard",
    "widgets": {
      "application/vnd.jupyter.widget-state+json": {
        "4f4d419acb584d249f44b95358259401": {
          "model_module": "@jupyter-widgets/controls",
          "model_name": "VBoxModel",
          "model_module_version": "1.5.0",
          "state": {
            "_dom_classes": [
              "widget-interact"
            ],
            "_model_module": "@jupyter-widgets/controls",
            "_model_module_version": "1.5.0",
            "_model_name": "VBoxModel",
            "_view_count": null,
            "_view_module": "@jupyter-widgets/controls",
            "_view_module_version": "1.5.0",
            "_view_name": "VBoxView",
            "box_style": "",
            "children": [
              "IPY_MODEL_5e00cb0bb4f548b48658cff786d30691",
              "IPY_MODEL_c69fa1cab3e549a889dab23bedd4c3e4"
            ],
            "layout": "IPY_MODEL_9c1be3352f7341d9a7c279cb8a0f85c7"
          }
        },
        "5e00cb0bb4f548b48658cff786d30691": {
          "model_module": "@jupyter-widgets/controls",
          "model_name": "IntSliderModel",
          "model_module_version": "1.5.0",
          "state": {
            "_dom_classes": [],
            "_model_module": "@jupyter-widgets/controls",
            "_model_module_version": "1.5.0",
            "_model_name": "IntSliderModel",
            "_view_count": null,
            "_view_module": "@jupyter-widgets/controls",
            "_view_module_version": "1.5.0",
            "_view_name": "IntSliderView",
            "continuous_update": true,
            "description": "R",
            "description_tooltip": null,
            "disabled": false,
            "layout": "IPY_MODEL_851fdde297244e95b1bec1f041077bd7",
            "max": 1000,
            "min": 1,
            "orientation": "horizontal",
            "readout": true,
            "readout_format": "d",
            "step": 1,
            "style": "IPY_MODEL_082a4aa70ade415dbf6e066f04d0094d",
            "value": 200
          }
        },
        "c69fa1cab3e549a889dab23bedd4c3e4": {
          "model_module": "@jupyter-widgets/output",
          "model_name": "OutputModel",
          "model_module_version": "1.0.0",
          "state": {
            "_dom_classes": [],
            "_model_module": "@jupyter-widgets/output",
            "_model_module_version": "1.0.0",
            "_model_name": "OutputModel",
            "_view_count": null,
            "_view_module": "@jupyter-widgets/output",
            "_view_module_version": "1.0.0",
            "_view_name": "OutputView",
            "layout": "IPY_MODEL_733c089b22c941c99ab46943523b7099",
            "msg_id": "",
            "outputs": []
          }
        },
        "9c1be3352f7341d9a7c279cb8a0f85c7": {
          "model_module": "@jupyter-widgets/base",
          "model_name": "LayoutModel",
          "model_module_version": "1.2.0",
          "state": {
            "_model_module": "@jupyter-widgets/base",
            "_model_module_version": "1.2.0",
            "_model_name": "LayoutModel",
            "_view_count": null,
            "_view_module": "@jupyter-widgets/base",
            "_view_module_version": "1.2.0",
            "_view_name": "LayoutView",
            "align_content": null,
            "align_items": null,
            "align_self": null,
            "border": null,
            "bottom": null,
            "display": null,
            "flex": null,
            "flex_flow": null,
            "grid_area": null,
            "grid_auto_columns": null,
            "grid_auto_flow": null,
            "grid_auto_rows": null,
            "grid_column": null,
            "grid_gap": null,
            "grid_row": null,
            "grid_template_areas": null,
            "grid_template_columns": null,
            "grid_template_rows": null,
            "height": null,
            "justify_content": null,
            "justify_items": null,
            "left": null,
            "margin": null,
            "max_height": null,
            "max_width": null,
            "min_height": null,
            "min_width": null,
            "object_fit": null,
            "object_position": null,
            "order": null,
            "overflow": null,
            "overflow_x": null,
            "overflow_y": null,
            "padding": null,
            "right": null,
            "top": null,
            "visibility": null,
            "width": null
          }
        },
        "851fdde297244e95b1bec1f041077bd7": {
          "model_module": "@jupyter-widgets/base",
          "model_name": "LayoutModel",
          "model_module_version": "1.2.0",
          "state": {
            "_model_module": "@jupyter-widgets/base",
            "_model_module_version": "1.2.0",
            "_model_name": "LayoutModel",
            "_view_count": null,
            "_view_module": "@jupyter-widgets/base",
            "_view_module_version": "1.2.0",
            "_view_name": "LayoutView",
            "align_content": null,
            "align_items": null,
            "align_self": null,
            "border": null,
            "bottom": null,
            "display": null,
            "flex": null,
            "flex_flow": null,
            "grid_area": null,
            "grid_auto_columns": null,
            "grid_auto_flow": null,
            "grid_auto_rows": null,
            "grid_column": null,
            "grid_gap": null,
            "grid_row": null,
            "grid_template_areas": null,
            "grid_template_columns": null,
            "grid_template_rows": null,
            "height": null,
            "justify_content": null,
            "justify_items": null,
            "left": null,
            "margin": null,
            "max_height": null,
            "max_width": null,
            "min_height": null,
            "min_width": null,
            "object_fit": null,
            "object_position": null,
            "order": null,
            "overflow": null,
            "overflow_x": null,
            "overflow_y": null,
            "padding": null,
            "right": null,
            "top": null,
            "visibility": null,
            "width": "100%"
          }
        },
        "082a4aa70ade415dbf6e066f04d0094d": {
          "model_module": "@jupyter-widgets/controls",
          "model_name": "SliderStyleModel",
          "model_module_version": "1.5.0",
          "state": {
            "_model_module": "@jupyter-widgets/controls",
            "_model_module_version": "1.5.0",
            "_model_name": "SliderStyleModel",
            "_view_count": null,
            "_view_module": "@jupyter-widgets/base",
            "_view_module_version": "1.2.0",
            "_view_name": "StyleView",
            "description_width": "",
            "handle_color": null
          }
        },
        "733c089b22c941c99ab46943523b7099": {
          "model_module": "@jupyter-widgets/base",
          "model_name": "LayoutModel",
          "model_module_version": "1.2.0",
          "state": {
            "_model_module": "@jupyter-widgets/base",
            "_model_module_version": "1.2.0",
            "_model_name": "LayoutModel",
            "_view_count": null,
            "_view_module": "@jupyter-widgets/base",
            "_view_module_version": "1.2.0",
            "_view_name": "LayoutView",
            "align_content": null,
            "align_items": null,
            "align_self": null,
            "border": null,
            "bottom": null,
            "display": null,
            "flex": null,
            "flex_flow": null,
            "grid_area": null,
            "grid_auto_columns": null,
            "grid_auto_flow": null,
            "grid_auto_rows": null,
            "grid_column": null,
            "grid_gap": null,
            "grid_row": null,
            "grid_template_areas": null,
            "grid_template_columns": null,
            "grid_template_rows": null,
            "height": null,
            "justify_content": null,
            "justify_items": null,
            "left": null,
            "margin": null,
            "max_height": null,
            "max_width": null,
            "min_height": null,
            "min_width": null,
            "object_fit": null,
            "object_position": null,
            "order": null,
            "overflow": null,
            "overflow_x": null,
            "overflow_y": null,
            "padding": null,
            "right": null,
            "top": null,
            "visibility": null,
            "width": null
          }
        },
        "88a50bc2ae82433da0ee0065ebfdb706": {
          "model_module": "jupyter-matplotlib",
          "model_name": "MPLCanvasModel",
          "model_module_version": "^0.11",
          "state": {
            "_cursor": "default",
            "_data_url": "data:image/png;base64,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",
            "_dom_classes": [],
            "_figure_label": "Figure 6",
            "_image_mode": "full",
            "_message": "",
            "_model_module": "jupyter-matplotlib",
            "_model_module_version": "^0.11",
            "_model_name": "MPLCanvasModel",
            "_rubberband_height": 0,
            "_rubberband_width": 0,
            "_rubberband_x": 0,
            "_rubberband_y": 0,
            "_size": [
              648,
              288
            ],
            "_view_count": null,
            "_view_module": "jupyter-matplotlib",
            "_view_module_version": "^0.11",
            "_view_name": "MPLCanvasView",
            "capture_scroll": false,
            "footer_visible": true,
            "header_visible": true,
            "layout": "IPY_MODEL_6eefbfd2ff2444a1bdfb42481ef72f39",
            "pan_zoom_throttle": 33,
            "resizable": true,
            "toolbar": "IPY_MODEL_91623f7bc5914a74b4bf7b8718f615b6",
            "toolbar_position": "left",
            "toolbar_visible": "fade-in-fade-out"
          }
        },
        "6eefbfd2ff2444a1bdfb42481ef72f39": {
          "model_module": "@jupyter-widgets/base",
          "model_name": "LayoutModel",
          "model_module_version": "1.2.0",
          "state": {
            "_model_module": "@jupyter-widgets/base",
            "_model_module_version": "1.2.0",
            "_model_name": "LayoutModel",
            "_view_count": null,
            "_view_module": "@jupyter-widgets/base",
            "_view_module_version": "1.2.0",
            "_view_name": "LayoutView",
            "align_content": null,
            "align_items": null,
            "align_self": null,
            "border": null,
            "bottom": null,
            "display": null,
            "flex": null,
            "flex_flow": null,
            "grid_area": null,
            "grid_auto_columns": null,
            "grid_auto_flow": null,
            "grid_auto_rows": null,
            "grid_column": null,
            "grid_gap": null,
            "grid_row": null,
            "grid_template_areas": null,
            "grid_template_columns": null,
            "grid_template_rows": null,
            "height": null,
            "justify_content": null,
            "justify_items": null,
            "left": null,
            "margin": null,
            "max_height": null,
            "max_width": null,
            "min_height": null,
            "min_width": null,
            "object_fit": null,
            "object_position": null,
            "order": null,
            "overflow": null,
            "overflow_x": null,
            "overflow_y": null,
            "padding": null,
            "right": null,
            "top": null,
            "visibility": null,
            "width": null
          }
        },
        "91623f7bc5914a74b4bf7b8718f615b6": {
          "model_module": "jupyter-matplotlib",
          "model_name": "ToolbarModel",
          "model_module_version": "^0.11",
          "state": {
            "_current_action": "",
            "_dom_classes": [],
            "_model_module": "jupyter-matplotlib",
            "_model_module_version": "^0.11",
            "_model_name": "ToolbarModel",
            "_view_count": null,
            "_view_module": "jupyter-matplotlib",
            "_view_module_version": "^0.11",
            "_view_name": "ToolbarView",
            "button_style": "",
            "collapsed": true,
            "layout": "IPY_MODEL_48c5a1614ded45d5b34ec0a15289f175",
            "orientation": "vertical",
            "toolitems": [
              [
                "Home",
                "Reset original view",
                "home",
                "home"
              ],
              [
                "Back",
                "Back to previous view",
                "arrow-left",
                "back"
              ],
              [
                "Forward",
                "Forward to next view",
                "arrow-right",
                "forward"
              ],
              [
                "Pan",
                "Left button pans, Right button zooms\nx/y fixes axis, CTRL fixes aspect",
                "arrows",
                "pan"
              ],
              [
                "Zoom",
                "Zoom to rectangle\nx/y fixes axis",
                "square-o",
                "zoom"
              ],
              [
                "Download",
                "Download plot",
                "floppy-o",
                "save_figure"
              ]
            ]
          }
        },
        "48c5a1614ded45d5b34ec0a15289f175": {
          "model_module": "@jupyter-widgets/base",
          "model_name": "LayoutModel",
          "model_module_version": "1.2.0",
          "state": {
            "_model_module": "@jupyter-widgets/base",
            "_model_module_version": "1.2.0",
            "_model_name": "LayoutModel",
            "_view_count": null,
            "_view_module": "@jupyter-widgets/base",
            "_view_module_version": "1.2.0",
            "_view_name": "LayoutView",
            "align_content": null,
            "align_items": null,
            "align_self": null,
            "border": null,
            "bottom": null,
            "display": null,
            "flex": null,
            "flex_flow": null,
            "grid_area": null,
            "grid_auto_columns": null,
            "grid_auto_flow": null,
            "grid_auto_rows": null,
            "grid_column": null,
            "grid_gap": null,
            "grid_row": null,
            "grid_template_areas": null,
            "grid_template_columns": null,
            "grid_template_rows": null,
            "height": null,
            "justify_content": null,
            "justify_items": null,
            "left": null,
            "margin": null,
            "max_height": null,
            "max_width": null,
            "min_height": null,
            "min_width": null,
            "object_fit": null,
            "object_position": null,
            "order": null,
            "overflow": null,
            "overflow_x": null,
            "overflow_y": null,
            "padding": null,
            "right": null,
            "top": null,
            "visibility": null,
            "width": null
          }
        },
        "07a855d5c2d0485892b9fb6587dc9ddf": {
          "model_module": "@jupyter-widgets/controls",
          "model_name": "VBoxModel",
          "model_module_version": "1.5.0",
          "state": {
            "_dom_classes": [
              "widget-interact"
            ],
            "_model_module": "@jupyter-widgets/controls",
            "_model_module_version": "1.5.0",
            "_model_name": "VBoxModel",
            "_view_count": null,
            "_view_module": "@jupyter-widgets/controls",
            "_view_module_version": "1.5.0",
            "_view_name": "VBoxView",
            "box_style": "",
            "children": [
              "IPY_MODEL_6f710a193d8e4ce285f325e1ea0784a3",
              "IPY_MODEL_fec63d120b044044a37ee25c890a08ff"
            ],
            "layout": "IPY_MODEL_b5f4b64b369846288911e88194d87b3d"
          }
        },
        "6f710a193d8e4ce285f325e1ea0784a3": {
          "model_module": "@jupyter-widgets/controls",
          "model_name": "IntSliderModel",
          "model_module_version": "1.5.0",
          "state": {
            "_dom_classes": [],
            "_model_module": "@jupyter-widgets/controls",
            "_model_module_version": "1.5.0",
            "_model_name": "IntSliderModel",
            "_view_count": null,
            "_view_module": "@jupyter-widgets/controls",
            "_view_module_version": "1.5.0",
            "_view_name": "IntSliderView",
            "continuous_update": true,
            "description": "R",
            "description_tooltip": null,
            "disabled": false,
            "layout": "IPY_MODEL_0fbf9d445a0e4009b39ef0b3313ac291",
            "max": 1000,
            "min": 1,
            "orientation": "horizontal",
            "readout": true,
            "readout_format": "d",
            "step": 1,
            "style": "IPY_MODEL_267528e3cd3d4a1db8086f0dda0a0304",
            "value": 200
          }
        },
        "fec63d120b044044a37ee25c890a08ff": {
          "model_module": "@jupyter-widgets/output",
          "model_name": "OutputModel",
          "model_module_version": "1.0.0",
          "state": {
            "_dom_classes": [],
            "_model_module": "@jupyter-widgets/output",
            "_model_module_version": "1.0.0",
            "_model_name": "OutputModel",
            "_view_count": null,
            "_view_module": "@jupyter-widgets/output",
            "_view_module_version": "1.0.0",
            "_view_name": "OutputView",
            "layout": "IPY_MODEL_571f785aad1e4dc091759d1c892c48a7",
            "msg_id": "",
            "outputs": []
          }
        },
        "b5f4b64b369846288911e88194d87b3d": {
          "model_module": "@jupyter-widgets/base",
          "model_name": "LayoutModel",
          "model_module_version": "1.2.0",
          "state": {
            "_model_module": "@jupyter-widgets/base",
            "_model_module_version": "1.2.0",
            "_model_name": "LayoutModel",
            "_view_count": null,
            "_view_module": "@jupyter-widgets/base",
            "_view_module_version": "1.2.0",
            "_view_name": "LayoutView",
            "align_content": null,
            "align_items": null,
            "align_self": null,
            "border": null,
            "bottom": null,
            "display": null,
            "flex": null,
            "flex_flow": null,
            "grid_area": null,
            "grid_auto_columns": null,
            "grid_auto_flow": null,
            "grid_auto_rows": null,
            "grid_column": null,
            "grid_gap": null,
            "grid_row": null,
            "grid_template_areas": null,
            "grid_template_columns": null,
            "grid_template_rows": null,
            "height": null,
            "justify_content": null,
            "justify_items": null,
            "left": null,
            "margin": null,
            "max_height": null,
            "max_width": null,
            "min_height": null,
            "min_width": null,
            "object_fit": null,
            "object_position": null,
            "order": null,
            "overflow": null,
            "overflow_x": null,
            "overflow_y": null,
            "padding": null,
            "right": null,
            "top": null,
            "visibility": null,
            "width": null
          }
        },
        "0fbf9d445a0e4009b39ef0b3313ac291": {
          "model_module": "@jupyter-widgets/base",
          "model_name": "LayoutModel",
          "model_module_version": "1.2.0",
          "state": {
            "_model_module": "@jupyter-widgets/base",
            "_model_module_version": "1.2.0",
            "_model_name": "LayoutModel",
            "_view_count": null,
            "_view_module": "@jupyter-widgets/base",
            "_view_module_version": "1.2.0",
            "_view_name": "LayoutView",
            "align_content": null,
            "align_items": null,
            "align_self": null,
            "border": null,
            "bottom": null,
            "display": null,
            "flex": null,
            "flex_flow": null,
            "grid_area": null,
            "grid_auto_columns": null,
            "grid_auto_flow": null,
            "grid_auto_rows": null,
            "grid_column": null,
            "grid_gap": null,
            "grid_row": null,
            "grid_template_areas": null,
            "grid_template_columns": null,
            "grid_template_rows": null,
            "height": null,
            "justify_content": null,
            "justify_items": null,
            "left": null,
            "margin": null,
            "max_height": null,
            "max_width": null,
            "min_height": null,
            "min_width": null,
            "object_fit": null,
            "object_position": null,
            "order": null,
            "overflow": null,
            "overflow_x": null,
            "overflow_y": null,
            "padding": null,
            "right": null,
            "top": null,
            "visibility": null,
            "width": "100%"
          }
        },
        "267528e3cd3d4a1db8086f0dda0a0304": {
          "model_module": "@jupyter-widgets/controls",
          "model_name": "SliderStyleModel",
          "model_module_version": "1.5.0",
          "state": {
            "_model_module": "@jupyter-widgets/controls",
            "_model_module_version": "1.5.0",
            "_model_name": "SliderStyleModel",
            "_view_count": null,
            "_view_module": "@jupyter-widgets/base",
            "_view_module_version": "1.2.0",
            "_view_name": "StyleView",
            "description_width": "",
            "handle_color": null
          }
        },
        "571f785aad1e4dc091759d1c892c48a7": {
          "model_module": "@jupyter-widgets/base",
          "model_name": "LayoutModel",
          "model_module_version": "1.2.0",
          "state": {
            "_model_module": "@jupyter-widgets/base",
            "_model_module_version": "1.2.0",
            "_model_name": "LayoutModel",
            "_view_count": null,
            "_view_module": "@jupyter-widgets/base",
            "_view_module_version": "1.2.0",
            "_view_name": "LayoutView",
            "align_content": null,
            "align_items": null,
            "align_self": null,
            "border": null,
            "bottom": null,
            "display": null,
            "flex": null,
            "flex_flow": null,
            "grid_area": null,
            "grid_auto_columns": null,
            "grid_auto_flow": null,
            "grid_auto_rows": null,
            "grid_column": null,
            "grid_gap": null,
            "grid_row": null,
            "grid_template_areas": null,
            "grid_template_columns": null,
            "grid_template_rows": null,
            "height": null,
            "justify_content": null,
            "justify_items": null,
            "left": null,
            "margin": null,
            "max_height": null,
            "max_width": null,
            "min_height": null,
            "min_width": null,
            "object_fit": null,
            "object_position": null,
            "order": null,
            "overflow": null,
            "overflow_x": null,
            "overflow_y": null,
            "padding": null,
            "right": null,
            "top": null,
            "visibility": null,
            "width": null
          }
        },
        "f0f66b7e2cb24ade93e9156e6cb12060": {
          "model_module": "jupyter-matplotlib",
          "model_name": "MPLCanvasModel",
          "model_module_version": "^0.11",
          "state": {
            "_cursor": "default",
            "_data_url": "data:image/png;base64,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",
            "_dom_classes": [],
            "_figure_label": "Figure 5",
            "_image_mode": "full",
            "_message": "",
            "_model_module": "jupyter-matplotlib",
            "_model_module_version": "^0.11",
            "_model_name": "MPLCanvasModel",
            "_rubberband_height": 0,
            "_rubberband_width": 0,
            "_rubberband_x": 0,
            "_rubberband_y": 0,
            "_size": [
              648,
              360
            ],
            "_view_count": null,
            "_view_module": "jupyter-matplotlib",
            "_view_module_version": "^0.11",
            "_view_name": "MPLCanvasView",
            "capture_scroll": false,
            "footer_visible": true,
            "header_visible": true,
            "layout": "IPY_MODEL_f5e985d447054904a8172026fcccd346",
            "pan_zoom_throttle": 33,
            "resizable": true,
            "toolbar": "IPY_MODEL_2ecd24b6fa0744c2a8da616d2f24243b",
            "toolbar_position": "left",
            "toolbar_visible": "fade-in-fade-out"
          }
        },
        "f5e985d447054904a8172026fcccd346": {
          "model_module": "@jupyter-widgets/base",
          "model_name": "LayoutModel",
          "model_module_version": "1.2.0",
          "state": {
            "_model_module": "@jupyter-widgets/base",
            "_model_module_version": "1.2.0",
            "_model_name": "LayoutModel",
            "_view_count": null,
            "_view_module": "@jupyter-widgets/base",
            "_view_module_version": "1.2.0",
            "_view_name": "LayoutView",
            "align_content": null,
            "align_items": null,
            "align_self": null,
            "border": null,
            "bottom": null,
            "display": null,
            "flex": null,
            "flex_flow": null,
            "grid_area": null,
            "grid_auto_columns": null,
            "grid_auto_flow": null,
            "grid_auto_rows": null,
            "grid_column": null,
            "grid_gap": null,
            "grid_row": null,
            "grid_template_areas": null,
            "grid_template_columns": null,
            "grid_template_rows": null,
            "height": null,
            "justify_content": null,
            "justify_items": null,
            "left": null,
            "margin": null,
            "max_height": null,
            "max_width": null,
            "min_height": null,
            "min_width": null,
            "object_fit": null,
            "object_position": null,
            "order": null,
            "overflow": null,
            "overflow_x": null,
            "overflow_y": null,
            "padding": null,
            "right": null,
            "top": null,
            "visibility": null,
            "width": null
          }
        },
        "2ecd24b6fa0744c2a8da616d2f24243b": {
          "model_module": "jupyter-matplotlib",
          "model_name": "ToolbarModel",
          "model_module_version": "^0.11",
          "state": {
            "_current_action": "",
            "_dom_classes": [],
            "_model_module": "jupyter-matplotlib",
            "_model_module_version": "^0.11",
            "_model_name": "ToolbarModel",
            "_view_count": null,
            "_view_module": "jupyter-matplotlib",
            "_view_module_version": "^0.11",
            "_view_name": "ToolbarView",
            "button_style": "",
            "collapsed": true,
            "layout": "IPY_MODEL_a49b7b98f3fa4a17ac196e6eee271f00",
            "orientation": "vertical",
            "toolitems": [
              [
                "Home",
                "Reset original view",
                "home",
                "home"
              ],
              [
                "Back",
                "Back to previous view",
                "arrow-left",
                "back"
              ],
              [
                "Forward",
                "Forward to next view",
                "arrow-right",
                "forward"
              ],
              [
                "Pan",
                "Left button pans, Right button zooms\nx/y fixes axis, CTRL fixes aspect",
                "arrows",
                "pan"
              ],
              [
                "Zoom",
                "Zoom to rectangle\nx/y fixes axis",
                "square-o",
                "zoom"
              ],
              [
                "Download",
                "Download plot",
                "floppy-o",
                "save_figure"
              ]
            ]
          }
        },
        "a49b7b98f3fa4a17ac196e6eee271f00": {
          "model_module": "@jupyter-widgets/base",
          "model_name": "LayoutModel",
          "model_module_version": "1.2.0",
          "state": {
            "_model_module": "@jupyter-widgets/base",
            "_model_module_version": "1.2.0",
            "_model_name": "LayoutModel",
            "_view_count": null,
            "_view_module": "@jupyter-widgets/base",
            "_view_module_version": "1.2.0",
            "_view_name": "LayoutView",
            "align_content": null,
            "align_items": null,
            "align_self": null,
            "border": null,
            "bottom": null,
            "display": null,
            "flex": null,
            "flex_flow": null,
            "grid_area": null,
            "grid_auto_columns": null,
            "grid_auto_flow": null,
            "grid_auto_rows": null,
            "grid_column": null,
            "grid_gap": null,
            "grid_row": null,
            "grid_template_areas": null,
            "grid_template_columns": null,
            "grid_template_rows": null,
            "height": null,
            "justify_content": null,
            "justify_items": null,
            "left": null,
            "margin": null,
            "max_height": null,
            "max_width": null,
            "min_height": null,
            "min_width": null,
            "object_fit": null,
            "object_position": null,
            "order": null,
            "overflow": null,
            "overflow_x": null,
            "overflow_y": null,
            "padding": null,
            "right": null,
            "top": null,
            "visibility": null,
            "width": null
          }
        },
        "1b8ccecd4eea4dd0ac96989faa8c552e": {
          "model_module": "@jupyter-widgets/controls",
          "model_name": "VBoxModel",
          "model_module_version": "1.5.0",
          "state": {
            "_dom_classes": [
              "widget-interact"
            ],
            "_model_module": "@jupyter-widgets/controls",
            "_model_module_version": "1.5.0",
            "_model_name": "VBoxModel",
            "_view_count": null,
            "_view_module": "@jupyter-widgets/controls",
            "_view_module_version": "1.5.0",
            "_view_name": "VBoxView",
            "box_style": "",
            "children": [
              "IPY_MODEL_173322a668f0458a89805fdfe89f9a9f",
              "IPY_MODEL_a8a011b1afd1474aa8b2419429d53784"
            ],
            "layout": "IPY_MODEL_1db06ebb47fd48c7943482dd6b80243a"
          }
        },
        "173322a668f0458a89805fdfe89f9a9f": {
          "model_module": "@jupyter-widgets/controls",
          "model_name": "IntSliderModel",
          "model_module_version": "1.5.0",
          "state": {
            "_dom_classes": [],
            "_model_module": "@jupyter-widgets/controls",
            "_model_module_version": "1.5.0",
            "_model_name": "IntSliderModel",
            "_view_count": null,
            "_view_module": "@jupyter-widgets/controls",
            "_view_module_version": "1.5.0",
            "_view_name": "IntSliderView",
            "continuous_update": true,
            "description": "Training Iteration",
            "description_tooltip": null,
            "disabled": false,
            "layout": "IPY_MODEL_03a6c50456444eecb03ab80879d9ed98",
            "max": 91,
            "min": 0,
            "orientation": "horizontal",
            "readout": true,
            "readout_format": "d",
            "step": 1,
            "style": "IPY_MODEL_2da071656a754dbbaf7c10b3b868b0b8",
            "value": 0
          }
        },
        "a8a011b1afd1474aa8b2419429d53784": {
          "model_module": "@jupyter-widgets/output",
          "model_name": "OutputModel",
          "model_module_version": "1.0.0",
          "state": {
            "_dom_classes": [],
            "_model_module": "@jupyter-widgets/output",
            "_model_module_version": "1.0.0",
            "_model_name": "OutputModel",
            "_view_count": null,
            "_view_module": "@jupyter-widgets/output",
            "_view_module_version": "1.0.0",
            "_view_name": "OutputView",
            "layout": "IPY_MODEL_4fb0877374944fb085c75e8e1a3f15d7",
            "msg_id": "",
            "outputs": []
          }
        },
        "1db06ebb47fd48c7943482dd6b80243a": {
          "model_module": "@jupyter-widgets/base",
          "model_name": "LayoutModel",
          "model_module_version": "1.2.0",
          "state": {
            "_model_module": "@jupyter-widgets/base",
            "_model_module_version": "1.2.0",
            "_model_name": "LayoutModel",
            "_view_count": null,
            "_view_module": "@jupyter-widgets/base",
            "_view_module_version": "1.2.0",
            "_view_name": "LayoutView",
            "align_content": null,
            "align_items": null,
            "align_self": null,
            "border": null,
            "bottom": null,
            "display": null,
            "flex": null,
            "flex_flow": null,
            "grid_area": null,
            "grid_auto_columns": null,
            "grid_auto_flow": null,
            "grid_auto_rows": null,
            "grid_column": null,
            "grid_gap": null,
            "grid_row": null,
            "grid_template_areas": null,
            "grid_template_columns": null,
            "grid_template_rows": null,
            "height": null,
            "justify_content": null,
            "justify_items": null,
            "left": null,
            "margin": null,
            "max_height": null,
            "max_width": null,
            "min_height": null,
            "min_width": null,
            "object_fit": null,
            "object_position": null,
            "order": null,
            "overflow": null,
            "overflow_x": null,
            "overflow_y": null,
            "padding": null,
            "right": null,
            "top": null,
            "visibility": null,
            "width": null
          }
        },
        "03a6c50456444eecb03ab80879d9ed98": {
          "model_module": "@jupyter-widgets/base",
          "model_name": "LayoutModel",
          "model_module_version": "1.2.0",
          "state": {
            "_model_module": "@jupyter-widgets/base",
            "_model_module_version": "1.2.0",
            "_model_name": "LayoutModel",
            "_view_count": null,
            "_view_module": "@jupyter-widgets/base",
            "_view_module_version": "1.2.0",
            "_view_name": "LayoutView",
            "align_content": null,
            "align_items": null,
            "align_self": null,
            "border": null,
            "bottom": null,
            "display": null,
            "flex": null,
            "flex_flow": null,
            "grid_area": null,
            "grid_auto_columns": null,
            "grid_auto_flow": null,
            "grid_auto_rows": null,
            "grid_column": null,
            "grid_gap": null,
            "grid_row": null,
            "grid_template_areas": null,
            "grid_template_columns": null,
            "grid_template_rows": null,
            "height": null,
            "justify_content": null,
            "justify_items": null,
            "left": null,
            "margin": null,
            "max_height": null,
            "max_width": null,
            "min_height": null,
            "min_width": null,
            "object_fit": null,
            "object_position": null,
            "order": null,
            "overflow": null,
            "overflow_x": null,
            "overflow_y": null,
            "padding": null,
            "right": null,
            "top": null,
            "visibility": null,
            "width": "100%"
          }
        },
        "2da071656a754dbbaf7c10b3b868b0b8": {
          "model_module": "@jupyter-widgets/controls",
          "model_name": "SliderStyleModel",
          "model_module_version": "1.5.0",
          "state": {
            "_model_module": "@jupyter-widgets/controls",
            "_model_module_version": "1.5.0",
            "_model_name": "SliderStyleModel",
            "_view_count": null,
            "_view_module": "@jupyter-widgets/base",
            "_view_module_version": "1.2.0",
            "_view_name": "StyleView",
            "description_width": "initial",
            "handle_color": null
          }
        },
        "4fb0877374944fb085c75e8e1a3f15d7": {
          "model_module": "@jupyter-widgets/base",
          "model_name": "LayoutModel",
          "model_module_version": "1.2.0",
          "state": {
            "_model_module": "@jupyter-widgets/base",
            "_model_module_version": "1.2.0",
            "_model_name": "LayoutModel",
            "_view_count": null,
            "_view_module": "@jupyter-widgets/base",
            "_view_module_version": "1.2.0",
            "_view_name": "LayoutView",
            "align_content": null,
            "align_items": null,
            "align_self": null,
            "border": null,
            "bottom": null,
            "display": null,
            "flex": null,
            "flex_flow": null,
            "grid_area": null,
            "grid_auto_columns": null,
            "grid_auto_flow": null,
            "grid_auto_rows": null,
            "grid_column": null,
            "grid_gap": null,
            "grid_row": null,
            "grid_template_areas": null,
            "grid_template_columns": null,
            "grid_template_rows": null,
            "height": null,
            "justify_content": null,
            "justify_items": null,
            "left": null,
            "margin": null,
            "max_height": null,
            "max_width": null,
            "min_height": null,
            "min_width": null,
            "object_fit": null,
            "object_position": null,
            "order": null,
            "overflow": null,
            "overflow_x": null,
            "overflow_y": null,
            "padding": null,
            "right": null,
            "top": null,
            "visibility": null,
            "width": null
          }
        },
        "b4bf93994b4c46cbae4a70d53bb1c537": {
          "model_module": "jupyter-matplotlib",
          "model_name": "MPLCanvasModel",
          "model_module_version": "^0.11",
          "state": {
            "_cursor": "default",
            "_data_url": "data:image/png;base64,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",
            "_dom_classes": [],
            "_figure_label": "Figure 3",
            "_image_mode": "full",
            "_message": "x=403. y=35.1",
            "_model_module": "jupyter-matplotlib",
            "_model_module_version": "^0.11",
            "_model_name": "MPLCanvasModel",
            "_rubberband_height": 0,
            "_rubberband_width": 0,
            "_rubberband_x": 0,
            "_rubberband_y": 0,
            "_size": [
              648,
              432
            ],
            "_view_count": null,
            "_view_module": "jupyter-matplotlib",
            "_view_module_version": "^0.11",
            "_view_name": "MPLCanvasView",
            "capture_scroll": false,
            "footer_visible": true,
            "header_visible": true,
            "layout": "IPY_MODEL_602cc101a31c4e8bbfee205eeeba2145",
            "pan_zoom_throttle": 33,
            "resizable": true,
            "toolbar": "IPY_MODEL_b7969b93e84541cd8fa9da19cd0e488c",
            "toolbar_position": "left",
            "toolbar_visible": "fade-in-fade-out"
          }
        },
        "602cc101a31c4e8bbfee205eeeba2145": {
          "model_module": "@jupyter-widgets/base",
          "model_name": "LayoutModel",
          "model_module_version": "1.2.0",
          "state": {
            "_model_module": "@jupyter-widgets/base",
            "_model_module_version": "1.2.0",
            "_model_name": "LayoutModel",
            "_view_count": null,
            "_view_module": "@jupyter-widgets/base",
            "_view_module_version": "1.2.0",
            "_view_name": "LayoutView",
            "align_content": null,
            "align_items": null,
            "align_self": null,
            "border": null,
            "bottom": null,
            "display": null,
            "flex": null,
            "flex_flow": null,
            "grid_area": null,
            "grid_auto_columns": null,
            "grid_auto_flow": null,
            "grid_auto_rows": null,
            "grid_column": null,
            "grid_gap": null,
            "grid_row": null,
            "grid_template_areas": null,
            "grid_template_columns": null,
            "grid_template_rows": null,
            "height": null,
            "justify_content": null,
            "justify_items": null,
            "left": null,
            "margin": null,
            "max_height": null,
            "max_width": null,
            "min_height": null,
            "min_width": null,
            "object_fit": null,
            "object_position": null,
            "order": null,
            "overflow": null,
            "overflow_x": null,
            "overflow_y": null,
            "padding": null,
            "right": null,
            "top": null,
            "visibility": null,
            "width": null
          }
        },
        "b7969b93e84541cd8fa9da19cd0e488c": {
          "model_module": "jupyter-matplotlib",
          "model_name": "ToolbarModel",
          "model_module_version": "^0.11",
          "state": {
            "_current_action": "",
            "_dom_classes": [],
            "_model_module": "jupyter-matplotlib",
            "_model_module_version": "^0.11",
            "_model_name": "ToolbarModel",
            "_view_count": null,
            "_view_module": "jupyter-matplotlib",
            "_view_module_version": "^0.11",
            "_view_name": "ToolbarView",
            "button_style": "",
            "collapsed": true,
            "layout": "IPY_MODEL_e33b469b8ba34a5d80e03a75aecb253f",
            "orientation": "vertical",
            "toolitems": [
              [
                "Home",
                "Reset original view",
                "home",
                "home"
              ],
              [
                "Back",
                "Back to previous view",
                "arrow-left",
                "back"
              ],
              [
                "Forward",
                "Forward to next view",
                "arrow-right",
                "forward"
              ],
              [
                "Pan",
                "Left button pans, Right button zooms\nx/y fixes axis, CTRL fixes aspect",
                "arrows",
                "pan"
              ],
              [
                "Zoom",
                "Zoom to rectangle\nx/y fixes axis",
                "square-o",
                "zoom"
              ],
              [
                "Download",
                "Download plot",
                "floppy-o",
                "save_figure"
              ]
            ]
          }
        },
        "e33b469b8ba34a5d80e03a75aecb253f": {
          "model_module": "@jupyter-widgets/base",
          "model_name": "LayoutModel",
          "model_module_version": "1.2.0",
          "state": {
            "_model_module": "@jupyter-widgets/base",
            "_model_module_version": "1.2.0",
            "_model_name": "LayoutModel",
            "_view_count": null,
            "_view_module": "@jupyter-widgets/base",
            "_view_module_version": "1.2.0",
            "_view_name": "LayoutView",
            "align_content": null,
            "align_items": null,
            "align_self": null,
            "border": null,
            "bottom": null,
            "display": null,
            "flex": null,
            "flex_flow": null,
            "grid_area": null,
            "grid_auto_columns": null,
            "grid_auto_flow": null,
            "grid_auto_rows": null,
            "grid_column": null,
            "grid_gap": null,
            "grid_row": null,
            "grid_template_areas": null,
            "grid_template_columns": null,
            "grid_template_rows": null,
            "height": null,
            "justify_content": null,
            "justify_items": null,
            "left": null,
            "margin": null,
            "max_height": null,
            "max_width": null,
            "min_height": null,
            "min_width": null,
            "object_fit": null,
            "object_position": null,
            "order": null,
            "overflow": null,
            "overflow_x": null,
            "overflow_y": null,
            "padding": null,
            "right": null,
            "top": null,
            "visibility": null,
            "width": null
          }
        }
      }
    }
  },
  "nbformat": 4,
  "nbformat_minor": 5
}